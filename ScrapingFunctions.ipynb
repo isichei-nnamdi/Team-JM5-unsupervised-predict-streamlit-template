{
 "cells": [
  {
   "cell_type": "code",
   "execution_count": 1,
   "id": "fb477149",
   "metadata": {},
   "outputs": [],
   "source": [
    "import numpy as np\n",
    "import pandas as pd\n",
    "from IPython.display import IFrame"
   ]
  },
  {
   "cell_type": "code",
   "execution_count": 2,
   "id": "b246ece1",
   "metadata": {},
   "outputs": [],
   "source": [
    "#import streamlit as st\n",
    "from PIL import Image\n",
    "# import json\n",
    "# from Classifier import KNearestNeighbours\n",
    "from bs4 import BeautifulSoup\n",
    "import requests,io\n",
    "import PIL.Image\n",
    "from urllib.request import urlopen"
   ]
  },
  {
   "cell_type": "code",
   "execution_count": 339,
   "id": "480f122d",
   "metadata": {},
   "outputs": [],
   "source": [
    "links = pd.read_csv('resources/data/links.csv')"
   ]
  },
  {
   "cell_type": "code",
   "execution_count": 320,
   "id": "58b5c982",
   "metadata": {},
   "outputs": [],
   "source": [
    "link.drop('url', axis = 1, inplace=True)"
   ]
  },
  {
   "cell_type": "code",
   "execution_count": 340,
   "id": "407fa3fd",
   "metadata": {
    "scrolled": true
   },
   "outputs": [
    {
     "data": {
      "text/html": [
       "<div>\n",
       "<style scoped>\n",
       "    .dataframe tbody tr th:only-of-type {\n",
       "        vertical-align: middle;\n",
       "    }\n",
       "\n",
       "    .dataframe tbody tr th {\n",
       "        vertical-align: top;\n",
       "    }\n",
       "\n",
       "    .dataframe thead th {\n",
       "        text-align: right;\n",
       "    }\n",
       "</style>\n",
       "<table border=\"1\" class=\"dataframe\">\n",
       "  <thead>\n",
       "    <tr style=\"text-align: right;\">\n",
       "      <th></th>\n",
       "      <th>movieId</th>\n",
       "      <th>imdbId</th>\n",
       "      <th>tmdbId</th>\n",
       "      <th>url</th>\n",
       "    </tr>\n",
       "  </thead>\n",
       "  <tbody>\n",
       "    <tr>\n",
       "      <th>0</th>\n",
       "      <td>1</td>\n",
       "      <td>114709</td>\n",
       "      <td>862.0</td>\n",
       "      <td>https://www.imdb.com/title/tt0114709/</td>\n",
       "    </tr>\n",
       "    <tr>\n",
       "      <th>1</th>\n",
       "      <td>2</td>\n",
       "      <td>113497</td>\n",
       "      <td>8844.0</td>\n",
       "      <td>https://www.imdb.com/title/tt0113497/</td>\n",
       "    </tr>\n",
       "    <tr>\n",
       "      <th>2</th>\n",
       "      <td>3</td>\n",
       "      <td>113228</td>\n",
       "      <td>15602.0</td>\n",
       "      <td>https://www.imdb.com/title/tt0113228/</td>\n",
       "    </tr>\n",
       "    <tr>\n",
       "      <th>3</th>\n",
       "      <td>4</td>\n",
       "      <td>114885</td>\n",
       "      <td>31357.0</td>\n",
       "      <td>https://www.imdb.com/title/tt0114885/</td>\n",
       "    </tr>\n",
       "    <tr>\n",
       "      <th>4</th>\n",
       "      <td>5</td>\n",
       "      <td>113041</td>\n",
       "      <td>11862.0</td>\n",
       "      <td>https://www.imdb.com/title/tt0113041/</td>\n",
       "    </tr>\n",
       "  </tbody>\n",
       "</table>\n",
       "</div>"
      ],
      "text/plain": [
       "   movieId  imdbId   tmdbId                                    url\n",
       "0        1  114709    862.0  https://www.imdb.com/title/tt0114709/\n",
       "1        2  113497   8844.0  https://www.imdb.com/title/tt0113497/\n",
       "2        3  113228  15602.0  https://www.imdb.com/title/tt0113228/\n",
       "3        4  114885  31357.0  https://www.imdb.com/title/tt0114885/\n",
       "4        5  113041  11862.0  https://www.imdb.com/title/tt0113041/"
      ]
     },
     "execution_count": 340,
     "metadata": {},
     "output_type": "execute_result"
    }
   ],
   "source": [
    "links.head()"
   ]
  },
  {
   "cell_type": "code",
   "execution_count": 347,
   "id": "942e1143",
   "metadata": {},
   "outputs": [],
   "source": [
    "def movie_poster_fetcher(df):\n",
    "    ## Display Movie Poster\n",
    "    url_data = requests.get(df).text\n",
    "    s_data = BeautifulSoup(url_data, 'html.parser')\n",
    "    imdb_dp = s_data.find(\"meta\", property=\"og:image\")\n",
    "    movie_poster_link = imdb_dp.attrs['content']\n",
    "    u = urlopen(movie_poster_link)\n",
    "    \n",
    "    return u"
   ]
  },
  {
   "cell_type": "code",
   "execution_count": null,
   "id": "f59e72ac",
   "metadata": {},
   "outputs": [],
   "source": [
    "link_list = []\n",
    "for link in links['url']:\n",
    "    try:\n",
    "        link_list.append(movie_poster_fetcher(link))\n",
    "    except Exception:\n",
    "        pass\n",
    "df_link = pd.DataFrame(link_list, columns=['link_url'])\n",
    "df_link"
   ]
  },
  {
   "cell_type": "code",
   "execution_count": null,
   "id": "8e869914",
   "metadata": {},
   "outputs": [],
   "source": []
  },
  {
   "cell_type": "code",
   "execution_count": 6,
   "id": "b01351d2",
   "metadata": {},
   "outputs": [],
   "source": [
    "link['url'] = link['imdbId'].apply(lambda x: \"https://www.imdb.com/title/tt\" + '0'*(7-len(str(x)))+ str(x) + '/'if len(str(x)) < 7\n",
    "                                   else \"https://www.imdb.com/title/tt\" + str(x) + '/')"
   ]
  },
  {
   "cell_type": "code",
   "execution_count": 7,
   "id": "d74ec7b5",
   "metadata": {},
   "outputs": [],
   "source": [
    "movie = pd.read_csv('resources/data/movies.csv')"
   ]
  },
  {
   "cell_type": "code",
   "execution_count": 8,
   "id": "a21385c6",
   "metadata": {},
   "outputs": [],
   "source": [
    "rating = pd.read_csv('resources/data/ratings.csv')"
   ]
  },
  {
   "cell_type": "code",
   "execution_count": 176,
   "id": "89c86be1",
   "metadata": {},
   "outputs": [],
   "source": [
    "imdb = pd.read_csv('resources/data/imdb_data.csv')"
   ]
  },
  {
   "cell_type": "code",
   "execution_count": 9,
   "id": "527ce62c",
   "metadata": {
    "scrolled": false
   },
   "outputs": [
    {
     "data": {
      "text/html": [
       "<div>\n",
       "<style scoped>\n",
       "    .dataframe tbody tr th:only-of-type {\n",
       "        vertical-align: middle;\n",
       "    }\n",
       "\n",
       "    .dataframe tbody tr th {\n",
       "        vertical-align: top;\n",
       "    }\n",
       "\n",
       "    .dataframe thead th {\n",
       "        text-align: right;\n",
       "    }\n",
       "</style>\n",
       "<table border=\"1\" class=\"dataframe\">\n",
       "  <thead>\n",
       "    <tr style=\"text-align: right;\">\n",
       "      <th></th>\n",
       "      <th>userId</th>\n",
       "      <th>movieId</th>\n",
       "      <th>rating</th>\n",
       "      <th>timestamp</th>\n",
       "    </tr>\n",
       "  </thead>\n",
       "  <tbody>\n",
       "    <tr>\n",
       "      <th>0</th>\n",
       "      <td>1</td>\n",
       "      <td>31</td>\n",
       "      <td>2.5</td>\n",
       "      <td>1260759144</td>\n",
       "    </tr>\n",
       "    <tr>\n",
       "      <th>1</th>\n",
       "      <td>1</td>\n",
       "      <td>1029</td>\n",
       "      <td>3.0</td>\n",
       "      <td>1260759179</td>\n",
       "    </tr>\n",
       "    <tr>\n",
       "      <th>2</th>\n",
       "      <td>1</td>\n",
       "      <td>1061</td>\n",
       "      <td>3.0</td>\n",
       "      <td>1260759182</td>\n",
       "    </tr>\n",
       "    <tr>\n",
       "      <th>3</th>\n",
       "      <td>1</td>\n",
       "      <td>1129</td>\n",
       "      <td>2.0</td>\n",
       "      <td>1260759185</td>\n",
       "    </tr>\n",
       "    <tr>\n",
       "      <th>4</th>\n",
       "      <td>1</td>\n",
       "      <td>1172</td>\n",
       "      <td>4.0</td>\n",
       "      <td>1260759205</td>\n",
       "    </tr>\n",
       "  </tbody>\n",
       "</table>\n",
       "</div>"
      ],
      "text/plain": [
       "   userId  movieId  rating   timestamp\n",
       "0       1       31     2.5  1260759144\n",
       "1       1     1029     3.0  1260759179\n",
       "2       1     1061     3.0  1260759182\n",
       "3       1     1129     2.0  1260759185\n",
       "4       1     1172     4.0  1260759205"
      ]
     },
     "execution_count": 9,
     "metadata": {},
     "output_type": "execute_result"
    }
   ],
   "source": [
    "rating.head()"
   ]
  },
  {
   "cell_type": "code",
   "execution_count": 178,
   "id": "2bfd4e81",
   "metadata": {},
   "outputs": [],
   "source": [
    "imdb_data = imdb[['movieId', 'director']]#.head()"
   ]
  },
  {
   "cell_type": "code",
   "execution_count": 180,
   "id": "cd318976",
   "metadata": {},
   "outputs": [
    {
     "data": {
      "text/html": [
       "<div>\n",
       "<style scoped>\n",
       "    .dataframe tbody tr th:only-of-type {\n",
       "        vertical-align: middle;\n",
       "    }\n",
       "\n",
       "    .dataframe tbody tr th {\n",
       "        vertical-align: top;\n",
       "    }\n",
       "\n",
       "    .dataframe thead th {\n",
       "        text-align: right;\n",
       "    }\n",
       "</style>\n",
       "<table border=\"1\" class=\"dataframe\">\n",
       "  <thead>\n",
       "    <tr style=\"text-align: right;\">\n",
       "      <th></th>\n",
       "      <th>movieId</th>\n",
       "      <th>director</th>\n",
       "    </tr>\n",
       "  </thead>\n",
       "  <tbody>\n",
       "    <tr>\n",
       "      <th>0</th>\n",
       "      <td>1</td>\n",
       "      <td>John Lasseter</td>\n",
       "    </tr>\n",
       "    <tr>\n",
       "      <th>1</th>\n",
       "      <td>2</td>\n",
       "      <td>Jonathan Hensleigh</td>\n",
       "    </tr>\n",
       "    <tr>\n",
       "      <th>2</th>\n",
       "      <td>3</td>\n",
       "      <td>Mark Steven Johnson</td>\n",
       "    </tr>\n",
       "    <tr>\n",
       "      <th>3</th>\n",
       "      <td>4</td>\n",
       "      <td>Terry McMillan</td>\n",
       "    </tr>\n",
       "    <tr>\n",
       "      <th>4</th>\n",
       "      <td>5</td>\n",
       "      <td>Albert Hackett</td>\n",
       "    </tr>\n",
       "  </tbody>\n",
       "</table>\n",
       "</div>"
      ],
      "text/plain": [
       "   movieId             director\n",
       "0        1        John Lasseter\n",
       "1        2   Jonathan Hensleigh\n",
       "2        3  Mark Steven Johnson\n",
       "3        4       Terry McMillan\n",
       "4        5       Albert Hackett"
      ]
     },
     "execution_count": 180,
     "metadata": {},
     "output_type": "execute_result"
    }
   ],
   "source": [
    "imdb_data.head()"
   ]
  },
  {
   "cell_type": "code",
   "execution_count": 173,
   "id": "c17c513d",
   "metadata": {},
   "outputs": [
    {
     "data": {
      "text/plain": [
       "(100004, 4)"
      ]
     },
     "execution_count": 173,
     "metadata": {},
     "output_type": "execute_result"
    }
   ],
   "source": [
    "rating.shape"
   ]
  },
  {
   "cell_type": "code",
   "execution_count": 174,
   "id": "72dd6a21",
   "metadata": {},
   "outputs": [
    {
     "data": {
      "text/plain": [
       "(62423, 3)"
      ]
     },
     "execution_count": 174,
     "metadata": {},
     "output_type": "execute_result"
    }
   ],
   "source": [
    "movie.shape"
   ]
  },
  {
   "cell_type": "code",
   "execution_count": 10,
   "id": "6fe99c00",
   "metadata": {
    "scrolled": true
   },
   "outputs": [
    {
     "data": {
      "text/html": [
       "<div>\n",
       "<style scoped>\n",
       "    .dataframe tbody tr th:only-of-type {\n",
       "        vertical-align: middle;\n",
       "    }\n",
       "\n",
       "    .dataframe tbody tr th {\n",
       "        vertical-align: top;\n",
       "    }\n",
       "\n",
       "    .dataframe thead th {\n",
       "        text-align: right;\n",
       "    }\n",
       "</style>\n",
       "<table border=\"1\" class=\"dataframe\">\n",
       "  <thead>\n",
       "    <tr style=\"text-align: right;\">\n",
       "      <th></th>\n",
       "      <th>movieId</th>\n",
       "      <th>title</th>\n",
       "      <th>genres</th>\n",
       "    </tr>\n",
       "  </thead>\n",
       "  <tbody>\n",
       "    <tr>\n",
       "      <th>0</th>\n",
       "      <td>1</td>\n",
       "      <td>Toy Story (1995)</td>\n",
       "      <td>Adventure|Animation|Children|Comedy|Fantasy</td>\n",
       "    </tr>\n",
       "    <tr>\n",
       "      <th>1</th>\n",
       "      <td>2</td>\n",
       "      <td>Jumanji (1995)</td>\n",
       "      <td>Adventure|Children|Fantasy</td>\n",
       "    </tr>\n",
       "    <tr>\n",
       "      <th>2</th>\n",
       "      <td>3</td>\n",
       "      <td>Grumpier Old Men (1995)</td>\n",
       "      <td>Comedy|Romance</td>\n",
       "    </tr>\n",
       "    <tr>\n",
       "      <th>3</th>\n",
       "      <td>4</td>\n",
       "      <td>Waiting to Exhale (1995)</td>\n",
       "      <td>Comedy|Drama|Romance</td>\n",
       "    </tr>\n",
       "    <tr>\n",
       "      <th>4</th>\n",
       "      <td>5</td>\n",
       "      <td>Father of the Bride Part II (1995)</td>\n",
       "      <td>Comedy</td>\n",
       "    </tr>\n",
       "  </tbody>\n",
       "</table>\n",
       "</div>"
      ],
      "text/plain": [
       "   movieId                               title  \\\n",
       "0        1                    Toy Story (1995)   \n",
       "1        2                      Jumanji (1995)   \n",
       "2        3             Grumpier Old Men (1995)   \n",
       "3        4            Waiting to Exhale (1995)   \n",
       "4        5  Father of the Bride Part II (1995)   \n",
       "\n",
       "                                        genres  \n",
       "0  Adventure|Animation|Children|Comedy|Fantasy  \n",
       "1                   Adventure|Children|Fantasy  \n",
       "2                               Comedy|Romance  \n",
       "3                         Comedy|Drama|Romance  \n",
       "4                                       Comedy  "
      ]
     },
     "execution_count": 10,
     "metadata": {},
     "output_type": "execute_result"
    }
   ],
   "source": [
    "movie.head()"
   ]
  },
  {
   "cell_type": "code",
   "execution_count": 189,
   "id": "e9487393",
   "metadata": {},
   "outputs": [
    {
     "data": {
      "text/plain": [
       "62423"
      ]
     },
     "execution_count": 189,
     "metadata": {},
     "output_type": "execute_result"
    }
   ],
   "source": [
    "len(movie['movieId'].unique())"
   ]
  },
  {
   "cell_type": "code",
   "execution_count": 11,
   "id": "69ffd362",
   "metadata": {},
   "outputs": [
    {
     "data": {
      "text/html": [
       "<div>\n",
       "<style scoped>\n",
       "    .dataframe tbody tr th:only-of-type {\n",
       "        vertical-align: middle;\n",
       "    }\n",
       "\n",
       "    .dataframe tbody tr th {\n",
       "        vertical-align: top;\n",
       "    }\n",
       "\n",
       "    .dataframe thead th {\n",
       "        text-align: right;\n",
       "    }\n",
       "</style>\n",
       "<table border=\"1\" class=\"dataframe\">\n",
       "  <thead>\n",
       "    <tr style=\"text-align: right;\">\n",
       "      <th></th>\n",
       "      <th>movieId</th>\n",
       "      <th>imdbId</th>\n",
       "      <th>tmdbId</th>\n",
       "      <th>url</th>\n",
       "    </tr>\n",
       "  </thead>\n",
       "  <tbody>\n",
       "    <tr>\n",
       "      <th>0</th>\n",
       "      <td>1</td>\n",
       "      <td>114709</td>\n",
       "      <td>862.0</td>\n",
       "      <td>https://www.imdb.com/title/tt0114709/</td>\n",
       "    </tr>\n",
       "    <tr>\n",
       "      <th>1</th>\n",
       "      <td>2</td>\n",
       "      <td>113497</td>\n",
       "      <td>8844.0</td>\n",
       "      <td>https://www.imdb.com/title/tt0113497/</td>\n",
       "    </tr>\n",
       "    <tr>\n",
       "      <th>2</th>\n",
       "      <td>3</td>\n",
       "      <td>113228</td>\n",
       "      <td>15602.0</td>\n",
       "      <td>https://www.imdb.com/title/tt0113228/</td>\n",
       "    </tr>\n",
       "    <tr>\n",
       "      <th>3</th>\n",
       "      <td>4</td>\n",
       "      <td>114885</td>\n",
       "      <td>31357.0</td>\n",
       "      <td>https://www.imdb.com/title/tt0114885/</td>\n",
       "    </tr>\n",
       "    <tr>\n",
       "      <th>4</th>\n",
       "      <td>5</td>\n",
       "      <td>113041</td>\n",
       "      <td>11862.0</td>\n",
       "      <td>https://www.imdb.com/title/tt0113041/</td>\n",
       "    </tr>\n",
       "  </tbody>\n",
       "</table>\n",
       "</div>"
      ],
      "text/plain": [
       "   movieId  imdbId   tmdbId                                    url\n",
       "0        1  114709    862.0  https://www.imdb.com/title/tt0114709/\n",
       "1        2  113497   8844.0  https://www.imdb.com/title/tt0113497/\n",
       "2        3  113228  15602.0  https://www.imdb.com/title/tt0113228/\n",
       "3        4  114885  31357.0  https://www.imdb.com/title/tt0114885/\n",
       "4        5  113041  11862.0  https://www.imdb.com/title/tt0113041/"
      ]
     },
     "execution_count": 11,
     "metadata": {},
     "output_type": "execute_result"
    }
   ],
   "source": [
    "link.head()"
   ]
  },
  {
   "cell_type": "code",
   "execution_count": 158,
   "id": "52670f8c",
   "metadata": {},
   "outputs": [],
   "source": [
    "merged = movie.merge(link, how = 'left', on = 'movieId')"
   ]
  },
  {
   "cell_type": "code",
   "execution_count": 199,
   "id": "0d71eb2f",
   "metadata": {},
   "outputs": [],
   "source": [
    "merged_director = merged.merge(imdb_data, how = 'left', on = 'movieId')"
   ]
  },
  {
   "cell_type": "code",
   "execution_count": 205,
   "id": "183c4e5a",
   "metadata": {},
   "outputs": [],
   "source": [
    "merged_director['year'] = merged_director['title'].apply(lambda x: x.split(' ')[-1]).str.extract(r'(\\d+)')"
   ]
  },
  {
   "cell_type": "code",
   "execution_count": 213,
   "id": "c8f27ebf",
   "metadata": {},
   "outputs": [],
   "source": [
    "import random"
   ]
  },
  {
   "cell_type": "code",
   "execution_count": 209,
   "id": "9bae2e0a",
   "metadata": {
    "scrolled": false
   },
   "outputs": [
    {
     "data": {
      "text/html": [
       "<div>\n",
       "<style scoped>\n",
       "    .dataframe tbody tr th:only-of-type {\n",
       "        vertical-align: middle;\n",
       "    }\n",
       "\n",
       "    .dataframe tbody tr th {\n",
       "        vertical-align: top;\n",
       "    }\n",
       "\n",
       "    .dataframe thead th {\n",
       "        text-align: right;\n",
       "    }\n",
       "</style>\n",
       "<table border=\"1\" class=\"dataframe\">\n",
       "  <thead>\n",
       "    <tr style=\"text-align: right;\">\n",
       "      <th></th>\n",
       "      <th>movieId</th>\n",
       "      <th>title</th>\n",
       "      <th>genres</th>\n",
       "      <th>imdbId</th>\n",
       "      <th>tmdbId</th>\n",
       "      <th>url</th>\n",
       "      <th>director</th>\n",
       "      <th>year</th>\n",
       "    </tr>\n",
       "  </thead>\n",
       "  <tbody>\n",
       "    <tr>\n",
       "      <th>0</th>\n",
       "      <td>1</td>\n",
       "      <td>Toy Story (1995)</td>\n",
       "      <td>Adventure|Animation|Children|Comedy|Fantasy</td>\n",
       "      <td>114709</td>\n",
       "      <td>862.0</td>\n",
       "      <td>https://www.imdb.com/title/tt0114709/</td>\n",
       "      <td>John Lasseter</td>\n",
       "      <td>1995</td>\n",
       "    </tr>\n",
       "    <tr>\n",
       "      <th>1</th>\n",
       "      <td>2</td>\n",
       "      <td>Jumanji (1995)</td>\n",
       "      <td>Adventure|Children|Fantasy</td>\n",
       "      <td>113497</td>\n",
       "      <td>8844.0</td>\n",
       "      <td>https://www.imdb.com/title/tt0113497/</td>\n",
       "      <td>Jonathan Hensleigh</td>\n",
       "      <td>1995</td>\n",
       "    </tr>\n",
       "    <tr>\n",
       "      <th>2</th>\n",
       "      <td>3</td>\n",
       "      <td>Grumpier Old Men (1995)</td>\n",
       "      <td>Comedy|Romance</td>\n",
       "      <td>113228</td>\n",
       "      <td>15602.0</td>\n",
       "      <td>https://www.imdb.com/title/tt0113228/</td>\n",
       "      <td>Mark Steven Johnson</td>\n",
       "      <td>1995</td>\n",
       "    </tr>\n",
       "    <tr>\n",
       "      <th>3</th>\n",
       "      <td>4</td>\n",
       "      <td>Waiting to Exhale (1995)</td>\n",
       "      <td>Comedy|Drama|Romance</td>\n",
       "      <td>114885</td>\n",
       "      <td>31357.0</td>\n",
       "      <td>https://www.imdb.com/title/tt0114885/</td>\n",
       "      <td>Terry McMillan</td>\n",
       "      <td>1995</td>\n",
       "    </tr>\n",
       "    <tr>\n",
       "      <th>4</th>\n",
       "      <td>5</td>\n",
       "      <td>Father of the Bride Part II (1995)</td>\n",
       "      <td>Comedy</td>\n",
       "      <td>113041</td>\n",
       "      <td>11862.0</td>\n",
       "      <td>https://www.imdb.com/title/tt0113041/</td>\n",
       "      <td>Albert Hackett</td>\n",
       "      <td>1995</td>\n",
       "    </tr>\n",
       "  </tbody>\n",
       "</table>\n",
       "</div>"
      ],
      "text/plain": [
       "   movieId                               title  \\\n",
       "0        1                    Toy Story (1995)   \n",
       "1        2                      Jumanji (1995)   \n",
       "2        3             Grumpier Old Men (1995)   \n",
       "3        4            Waiting to Exhale (1995)   \n",
       "4        5  Father of the Bride Part II (1995)   \n",
       "\n",
       "                                        genres  imdbId   tmdbId  \\\n",
       "0  Adventure|Animation|Children|Comedy|Fantasy  114709    862.0   \n",
       "1                   Adventure|Children|Fantasy  113497   8844.0   \n",
       "2                               Comedy|Romance  113228  15602.0   \n",
       "3                         Comedy|Drama|Romance  114885  31357.0   \n",
       "4                                       Comedy  113041  11862.0   \n",
       "\n",
       "                                     url             director  year  \n",
       "0  https://www.imdb.com/title/tt0114709/        John Lasseter  1995  \n",
       "1  https://www.imdb.com/title/tt0113497/   Jonathan Hensleigh  1995  \n",
       "2  https://www.imdb.com/title/tt0113228/  Mark Steven Johnson  1995  \n",
       "3  https://www.imdb.com/title/tt0114885/       Terry McMillan  1995  \n",
       "4  https://www.imdb.com/title/tt0113041/       Albert Hackett  1995  "
      ]
     },
     "execution_count": 209,
     "metadata": {},
     "output_type": "execute_result"
    }
   ],
   "source": [
    "merged_director.head()"
   ]
  },
  {
   "cell_type": "code",
   "execution_count": 215,
   "id": "55656d1d",
   "metadata": {},
   "outputs": [],
   "source": [
    "merged_director['genre_list'] = merged_director['genres'].str.split('|')"
   ]
  },
  {
   "cell_type": "code",
   "execution_count": 219,
   "id": "501cfc26",
   "metadata": {},
   "outputs": [],
   "source": [
    "merged_director['genre'] = merged_director['genre_list'].apply(lambda x: random.choice(x))"
   ]
  },
  {
   "cell_type": "code",
   "execution_count": 227,
   "id": "c6ebdcac",
   "metadata": {},
   "outputs": [
    {
     "data": {
      "text/plain": [
       "array(['Children', 'Adventure', 'Romance', 'Comedy', 'Crime', 'Action',\n",
       "       'Horror', 'Animation', 'Drama', 'Mystery', 'Sci-Fi', 'Thriller',\n",
       "       'IMAX', 'Fantasy', 'Documentary', 'War', 'Western', 'Film-Noir',\n",
       "       'Musical', '(no genres listed)'], dtype=object)"
      ]
     },
     "execution_count": 227,
     "metadata": {},
     "output_type": "execute_result"
    }
   ],
   "source": [
    "merged_director['genre'].unique()"
   ]
  },
  {
   "cell_type": "code",
   "execution_count": null,
   "id": "e0d6e372",
   "metadata": {},
   "outputs": [],
   "source": []
  },
  {
   "cell_type": "code",
   "execution_count": 228,
   "id": "a0360763",
   "metadata": {},
   "outputs": [],
   "source": [
    "# merged_data[merged_data['genre'] == '(no genres listed)']\n",
    "\n",
    "gens = ['Children', 'Adventure', 'Romance', 'Comedy', 'Crime', 'Action',\n",
    "       'Horror', 'Animation', 'Drama', 'Mystery', 'Sci-Fi', 'Thriller',\n",
    "       'IMAX', 'Fantasy', 'Documentary', 'War', 'Western', 'Film-Noir',\n",
    "       'Musical']\n",
    "   \n",
    "np.random.seed(1) \n",
    "m = merged_director['genre'].eq('(no genres listed)')\n",
    "merged_director.loc[m, 'genre'] = np.random.choice(gens, size=m.sum())"
   ]
  },
  {
   "cell_type": "code",
   "execution_count": 240,
   "id": "91b40a8c",
   "metadata": {},
   "outputs": [],
   "source": [
    "merged_data = merged_director[['movieId', 'title', 'url', 'director', 'year', 'genre']]"
   ]
  },
  {
   "cell_type": "code",
   "execution_count": 242,
   "id": "9f0930c9",
   "metadata": {
    "scrolled": false
   },
   "outputs": [
    {
     "data": {
      "text/html": [
       "<div>\n",
       "<style scoped>\n",
       "    .dataframe tbody tr th:only-of-type {\n",
       "        vertical-align: middle;\n",
       "    }\n",
       "\n",
       "    .dataframe tbody tr th {\n",
       "        vertical-align: top;\n",
       "    }\n",
       "\n",
       "    .dataframe thead th {\n",
       "        text-align: right;\n",
       "    }\n",
       "</style>\n",
       "<table border=\"1\" class=\"dataframe\">\n",
       "  <thead>\n",
       "    <tr style=\"text-align: right;\">\n",
       "      <th></th>\n",
       "      <th>movieId</th>\n",
       "      <th>title</th>\n",
       "      <th>url</th>\n",
       "      <th>director</th>\n",
       "      <th>year</th>\n",
       "      <th>genre</th>\n",
       "    </tr>\n",
       "  </thead>\n",
       "  <tbody>\n",
       "    <tr>\n",
       "      <th>0</th>\n",
       "      <td>1</td>\n",
       "      <td>Toy Story (1995)</td>\n",
       "      <td>https://www.imdb.com/title/tt0114709/</td>\n",
       "      <td>John Lasseter</td>\n",
       "      <td>1995</td>\n",
       "      <td>Children</td>\n",
       "    </tr>\n",
       "    <tr>\n",
       "      <th>1</th>\n",
       "      <td>2</td>\n",
       "      <td>Jumanji (1995)</td>\n",
       "      <td>https://www.imdb.com/title/tt0113497/</td>\n",
       "      <td>Jonathan Hensleigh</td>\n",
       "      <td>1995</td>\n",
       "      <td>Adventure</td>\n",
       "    </tr>\n",
       "    <tr>\n",
       "      <th>2</th>\n",
       "      <td>3</td>\n",
       "      <td>Grumpier Old Men (1995)</td>\n",
       "      <td>https://www.imdb.com/title/tt0113228/</td>\n",
       "      <td>Mark Steven Johnson</td>\n",
       "      <td>1995</td>\n",
       "      <td>Romance</td>\n",
       "    </tr>\n",
       "    <tr>\n",
       "      <th>3</th>\n",
       "      <td>4</td>\n",
       "      <td>Waiting to Exhale (1995)</td>\n",
       "      <td>https://www.imdb.com/title/tt0114885/</td>\n",
       "      <td>Terry McMillan</td>\n",
       "      <td>1995</td>\n",
       "      <td>Comedy</td>\n",
       "    </tr>\n",
       "    <tr>\n",
       "      <th>4</th>\n",
       "      <td>5</td>\n",
       "      <td>Father of the Bride Part II (1995)</td>\n",
       "      <td>https://www.imdb.com/title/tt0113041/</td>\n",
       "      <td>Albert Hackett</td>\n",
       "      <td>1995</td>\n",
       "      <td>Comedy</td>\n",
       "    </tr>\n",
       "    <tr>\n",
       "      <th>...</th>\n",
       "      <td>...</td>\n",
       "      <td>...</td>\n",
       "      <td>...</td>\n",
       "      <td>...</td>\n",
       "      <td>...</td>\n",
       "      <td>...</td>\n",
       "    </tr>\n",
       "    <tr>\n",
       "      <th>62418</th>\n",
       "      <td>209157</td>\n",
       "      <td>We (2018)</td>\n",
       "      <td>https://www.imdb.com/title/tt6671244/</td>\n",
       "      <td>NaN</td>\n",
       "      <td>2018</td>\n",
       "      <td>Drama</td>\n",
       "    </tr>\n",
       "    <tr>\n",
       "      <th>62419</th>\n",
       "      <td>209159</td>\n",
       "      <td>Window of the Soul (2001)</td>\n",
       "      <td>https://www.imdb.com/title/tt0297986/</td>\n",
       "      <td>NaN</td>\n",
       "      <td>2001</td>\n",
       "      <td>Documentary</td>\n",
       "    </tr>\n",
       "    <tr>\n",
       "      <th>62420</th>\n",
       "      <td>209163</td>\n",
       "      <td>Bad Poems (2018)</td>\n",
       "      <td>https://www.imdb.com/title/tt6755366/</td>\n",
       "      <td>NaN</td>\n",
       "      <td>2018</td>\n",
       "      <td>Drama</td>\n",
       "    </tr>\n",
       "    <tr>\n",
       "      <th>62421</th>\n",
       "      <td>209169</td>\n",
       "      <td>A Girl Thing (2001)</td>\n",
       "      <td>https://www.imdb.com/title/tt0249603/</td>\n",
       "      <td>NaN</td>\n",
       "      <td>2001</td>\n",
       "      <td>Film-Noir</td>\n",
       "    </tr>\n",
       "    <tr>\n",
       "      <th>62422</th>\n",
       "      <td>209171</td>\n",
       "      <td>Women of Devil's Island (1962)</td>\n",
       "      <td>https://www.imdb.com/title/tt0055323/</td>\n",
       "      <td>NaN</td>\n",
       "      <td>1962</td>\n",
       "      <td>Adventure</td>\n",
       "    </tr>\n",
       "  </tbody>\n",
       "</table>\n",
       "<p>62423 rows × 6 columns</p>\n",
       "</div>"
      ],
      "text/plain": [
       "       movieId                               title  \\\n",
       "0            1                    Toy Story (1995)   \n",
       "1            2                      Jumanji (1995)   \n",
       "2            3             Grumpier Old Men (1995)   \n",
       "3            4            Waiting to Exhale (1995)   \n",
       "4            5  Father of the Bride Part II (1995)   \n",
       "...        ...                                 ...   \n",
       "62418   209157                           We (2018)   \n",
       "62419   209159           Window of the Soul (2001)   \n",
       "62420   209163                    Bad Poems (2018)   \n",
       "62421   209169                 A Girl Thing (2001)   \n",
       "62422   209171      Women of Devil's Island (1962)   \n",
       "\n",
       "                                         url             director  year  \\\n",
       "0      https://www.imdb.com/title/tt0114709/        John Lasseter  1995   \n",
       "1      https://www.imdb.com/title/tt0113497/   Jonathan Hensleigh  1995   \n",
       "2      https://www.imdb.com/title/tt0113228/  Mark Steven Johnson  1995   \n",
       "3      https://www.imdb.com/title/tt0114885/       Terry McMillan  1995   \n",
       "4      https://www.imdb.com/title/tt0113041/       Albert Hackett  1995   \n",
       "...                                      ...                  ...   ...   \n",
       "62418  https://www.imdb.com/title/tt6671244/                  NaN  2018   \n",
       "62419  https://www.imdb.com/title/tt0297986/                  NaN  2001   \n",
       "62420  https://www.imdb.com/title/tt6755366/                  NaN  2018   \n",
       "62421  https://www.imdb.com/title/tt0249603/                  NaN  2001   \n",
       "62422  https://www.imdb.com/title/tt0055323/                  NaN  1962   \n",
       "\n",
       "             genre  \n",
       "0         Children  \n",
       "1        Adventure  \n",
       "2          Romance  \n",
       "3           Comedy  \n",
       "4           Comedy  \n",
       "...            ...  \n",
       "62418        Drama  \n",
       "62419  Documentary  \n",
       "62420        Drama  \n",
       "62421    Film-Noir  \n",
       "62422    Adventure  \n",
       "\n",
       "[62423 rows x 6 columns]"
      ]
     },
     "execution_count": 242,
     "metadata": {},
     "output_type": "execute_result"
    }
   ],
   "source": [
    "merged_data"
   ]
  },
  {
   "cell_type": "code",
   "execution_count": 284,
   "id": "6e4bddb0",
   "metadata": {},
   "outputs": [
    {
     "data": {
      "text/html": [
       "<div>\n",
       "<style scoped>\n",
       "    .dataframe tbody tr th:only-of-type {\n",
       "        vertical-align: middle;\n",
       "    }\n",
       "\n",
       "    .dataframe tbody tr th {\n",
       "        vertical-align: top;\n",
       "    }\n",
       "\n",
       "    .dataframe thead th {\n",
       "        text-align: right;\n",
       "    }\n",
       "</style>\n",
       "<table border=\"1\" class=\"dataframe\">\n",
       "  <thead>\n",
       "    <tr style=\"text-align: right;\">\n",
       "      <th></th>\n",
       "      <th>movieId</th>\n",
       "      <th>title</th>\n",
       "      <th>url</th>\n",
       "      <th>director</th>\n",
       "      <th>year</th>\n",
       "      <th>genre</th>\n",
       "    </tr>\n",
       "  </thead>\n",
       "  <tbody>\n",
       "    <tr>\n",
       "      <th>0</th>\n",
       "      <td>1</td>\n",
       "      <td>Toy Story (1995)</td>\n",
       "      <td>https://www.imdb.com/title/tt0114709/</td>\n",
       "      <td>John Lasseter</td>\n",
       "      <td>1995</td>\n",
       "      <td>Children</td>\n",
       "    </tr>\n",
       "    <tr>\n",
       "      <th>1</th>\n",
       "      <td>2</td>\n",
       "      <td>Jumanji (1995)</td>\n",
       "      <td>https://www.imdb.com/title/tt0113497/</td>\n",
       "      <td>Jonathan Hensleigh</td>\n",
       "      <td>1995</td>\n",
       "      <td>Adventure</td>\n",
       "    </tr>\n",
       "    <tr>\n",
       "      <th>2</th>\n",
       "      <td>3</td>\n",
       "      <td>Grumpier Old Men (1995)</td>\n",
       "      <td>https://www.imdb.com/title/tt0113228/</td>\n",
       "      <td>Mark Steven Johnson</td>\n",
       "      <td>1995</td>\n",
       "      <td>Romance</td>\n",
       "    </tr>\n",
       "    <tr>\n",
       "      <th>3</th>\n",
       "      <td>4</td>\n",
       "      <td>Waiting to Exhale (1995)</td>\n",
       "      <td>https://www.imdb.com/title/tt0114885/</td>\n",
       "      <td>Terry McMillan</td>\n",
       "      <td>1995</td>\n",
       "      <td>Comedy</td>\n",
       "    </tr>\n",
       "    <tr>\n",
       "      <th>4</th>\n",
       "      <td>5</td>\n",
       "      <td>Father of the Bride Part II (1995)</td>\n",
       "      <td>https://www.imdb.com/title/tt0113041/</td>\n",
       "      <td>Albert Hackett</td>\n",
       "      <td>1995</td>\n",
       "      <td>Comedy</td>\n",
       "    </tr>\n",
       "    <tr>\n",
       "      <th>...</th>\n",
       "      <td>...</td>\n",
       "      <td>...</td>\n",
       "      <td>...</td>\n",
       "      <td>...</td>\n",
       "      <td>...</td>\n",
       "      <td>...</td>\n",
       "    </tr>\n",
       "    <tr>\n",
       "      <th>61444</th>\n",
       "      <td>205933</td>\n",
       "      <td>August in the Water (1995)</td>\n",
       "      <td>https://www.imdb.com/title/tt0113834/</td>\n",
       "      <td>NaN</td>\n",
       "      <td>1995</td>\n",
       "      <td>Sci-Fi</td>\n",
       "    </tr>\n",
       "    <tr>\n",
       "      <th>61597</th>\n",
       "      <td>206327</td>\n",
       "      <td>Scanners: The Showdown (1995)</td>\n",
       "      <td>https://www.imdb.com/title/tt0114344/</td>\n",
       "      <td>NaN</td>\n",
       "      <td>1995</td>\n",
       "      <td>Horror</td>\n",
       "    </tr>\n",
       "    <tr>\n",
       "      <th>61701</th>\n",
       "      <td>206682</td>\n",
       "      <td>Dalekmania (1995)</td>\n",
       "      <td>https://www.imdb.com/title/tt0416673/</td>\n",
       "      <td>NaN</td>\n",
       "      <td>1995</td>\n",
       "      <td>Documentary</td>\n",
       "    </tr>\n",
       "    <tr>\n",
       "      <th>62349</th>\n",
       "      <td>208821</td>\n",
       "      <td>Fireworks, Should We See It from the Side or t...</td>\n",
       "      <td>https://www.imdb.com/title/tt0217862/</td>\n",
       "      <td>NaN</td>\n",
       "      <td>1995</td>\n",
       "      <td>Drama</td>\n",
       "    </tr>\n",
       "    <tr>\n",
       "      <th>62362</th>\n",
       "      <td>208901</td>\n",
       "      <td>Carlota Joaquina, Princess of Brazil (1995)</td>\n",
       "      <td>https://www.imdb.com/title/tt0109380/</td>\n",
       "      <td>NaN</td>\n",
       "      <td>1995</td>\n",
       "      <td>Western</td>\n",
       "    </tr>\n",
       "  </tbody>\n",
       "</table>\n",
       "<p>701 rows × 6 columns</p>\n",
       "</div>"
      ],
      "text/plain": [
       "       movieId                                              title  \\\n",
       "0            1                                   Toy Story (1995)   \n",
       "1            2                                     Jumanji (1995)   \n",
       "2            3                            Grumpier Old Men (1995)   \n",
       "3            4                           Waiting to Exhale (1995)   \n",
       "4            5                 Father of the Bride Part II (1995)   \n",
       "...        ...                                                ...   \n",
       "61444   205933                         August in the Water (1995)   \n",
       "61597   206327                      Scanners: The Showdown (1995)   \n",
       "61701   206682                                  Dalekmania (1995)   \n",
       "62349   208821  Fireworks, Should We See It from the Side or t...   \n",
       "62362   208901        Carlota Joaquina, Princess of Brazil (1995)   \n",
       "\n",
       "                                         url             director  year  \\\n",
       "0      https://www.imdb.com/title/tt0114709/        John Lasseter  1995   \n",
       "1      https://www.imdb.com/title/tt0113497/   Jonathan Hensleigh  1995   \n",
       "2      https://www.imdb.com/title/tt0113228/  Mark Steven Johnson  1995   \n",
       "3      https://www.imdb.com/title/tt0114885/       Terry McMillan  1995   \n",
       "4      https://www.imdb.com/title/tt0113041/       Albert Hackett  1995   \n",
       "...                                      ...                  ...   ...   \n",
       "61444  https://www.imdb.com/title/tt0113834/                  NaN  1995   \n",
       "61597  https://www.imdb.com/title/tt0114344/                  NaN  1995   \n",
       "61701  https://www.imdb.com/title/tt0416673/                  NaN  1995   \n",
       "62349  https://www.imdb.com/title/tt0217862/                  NaN  1995   \n",
       "62362  https://www.imdb.com/title/tt0109380/                  NaN  1995   \n",
       "\n",
       "             genre  \n",
       "0         Children  \n",
       "1        Adventure  \n",
       "2          Romance  \n",
       "3           Comedy  \n",
       "4           Comedy  \n",
       "...            ...  \n",
       "61444       Sci-Fi  \n",
       "61597       Horror  \n",
       "61701  Documentary  \n",
       "62349        Drama  \n",
       "62362      Western  \n",
       "\n",
       "[701 rows x 6 columns]"
      ]
     },
     "execution_count": 284,
     "metadata": {},
     "output_type": "execute_result"
    }
   ],
   "source": [
    "merged_data[merged_data['year'] == '1995']"
   ]
  },
  {
   "cell_type": "code",
   "execution_count": 317,
   "id": "42f34cba",
   "metadata": {},
   "outputs": [],
   "source": [
    "col = np.where((merged_data['year'] == '2016') | (merged_data['genre'] == 'Documentary')\n",
    "               | (merged_data['director'] == 'Agnès de Sacy'))"
   ]
  },
  {
   "cell_type": "code",
   "execution_count": 307,
   "id": "2aa25a40",
   "metadata": {},
   "outputs": [],
   "source": [
    "sorted_rating = rating.sort_values('rating', ascending=False).head(100)"
   ]
  },
  {
   "cell_type": "code",
   "execution_count": 308,
   "id": "793e2f9f",
   "metadata": {},
   "outputs": [
    {
     "data": {
      "text/html": [
       "<div>\n",
       "<style scoped>\n",
       "    .dataframe tbody tr th:only-of-type {\n",
       "        vertical-align: middle;\n",
       "    }\n",
       "\n",
       "    .dataframe tbody tr th {\n",
       "        vertical-align: top;\n",
       "    }\n",
       "\n",
       "    .dataframe thead th {\n",
       "        text-align: right;\n",
       "    }\n",
       "</style>\n",
       "<table border=\"1\" class=\"dataframe\">\n",
       "  <thead>\n",
       "    <tr style=\"text-align: right;\">\n",
       "      <th></th>\n",
       "      <th>userId</th>\n",
       "      <th>movieId</th>\n",
       "      <th>rating</th>\n",
       "      <th>timestamp</th>\n",
       "    </tr>\n",
       "  </thead>\n",
       "  <tbody>\n",
       "    <tr>\n",
       "      <th>33889</th>\n",
       "      <td>242</td>\n",
       "      <td>2929</td>\n",
       "      <td>5.0</td>\n",
       "      <td>956687566</td>\n",
       "    </tr>\n",
       "    <tr>\n",
       "      <th>36867</th>\n",
       "      <td>265</td>\n",
       "      <td>1233</td>\n",
       "      <td>5.0</td>\n",
       "      <td>960056214</td>\n",
       "    </tr>\n",
       "    <tr>\n",
       "      <th>46251</th>\n",
       "      <td>337</td>\n",
       "      <td>1356</td>\n",
       "      <td>5.0</td>\n",
       "      <td>1447176421</td>\n",
       "    </tr>\n",
       "    <tr>\n",
       "      <th>14749</th>\n",
       "      <td>95</td>\n",
       "      <td>3948</td>\n",
       "      <td>5.0</td>\n",
       "      <td>1025556197</td>\n",
       "    </tr>\n",
       "    <tr>\n",
       "      <th>14747</th>\n",
       "      <td>95</td>\n",
       "      <td>3917</td>\n",
       "      <td>5.0</td>\n",
       "      <td>1019023102</td>\n",
       "    </tr>\n",
       "    <tr>\n",
       "      <th>...</th>\n",
       "      <td>...</td>\n",
       "      <td>...</td>\n",
       "      <td>...</td>\n",
       "      <td>...</td>\n",
       "    </tr>\n",
       "    <tr>\n",
       "      <th>14878</th>\n",
       "      <td>96</td>\n",
       "      <td>32525</td>\n",
       "      <td>5.0</td>\n",
       "      <td>1223256595</td>\n",
       "    </tr>\n",
       "    <tr>\n",
       "      <th>77799</th>\n",
       "      <td>538</td>\n",
       "      <td>1</td>\n",
       "      <td>5.0</td>\n",
       "      <td>831835670</td>\n",
       "    </tr>\n",
       "    <tr>\n",
       "      <th>14876</th>\n",
       "      <td>96</td>\n",
       "      <td>25947</td>\n",
       "      <td>5.0</td>\n",
       "      <td>1223256567</td>\n",
       "    </tr>\n",
       "    <tr>\n",
       "      <th>14874</th>\n",
       "      <td>96</td>\n",
       "      <td>25850</td>\n",
       "      <td>5.0</td>\n",
       "      <td>1223256486</td>\n",
       "    </tr>\n",
       "    <tr>\n",
       "      <th>77798</th>\n",
       "      <td>537</td>\n",
       "      <td>5060</td>\n",
       "      <td>5.0</td>\n",
       "      <td>879506902</td>\n",
       "    </tr>\n",
       "  </tbody>\n",
       "</table>\n",
       "<p>100 rows × 4 columns</p>\n",
       "</div>"
      ],
      "text/plain": [
       "       userId  movieId  rating   timestamp\n",
       "33889     242     2929     5.0   956687566\n",
       "36867     265     1233     5.0   960056214\n",
       "46251     337     1356     5.0  1447176421\n",
       "14749      95     3948     5.0  1025556197\n",
       "14747      95     3917     5.0  1019023102\n",
       "...       ...      ...     ...         ...\n",
       "14878      96    32525     5.0  1223256595\n",
       "77799     538        1     5.0   831835670\n",
       "14876      96    25947     5.0  1223256567\n",
       "14874      96    25850     5.0  1223256486\n",
       "77798     537     5060     5.0   879506902\n",
       "\n",
       "[100 rows x 4 columns]"
      ]
     },
     "execution_count": 308,
     "metadata": {},
     "output_type": "execute_result"
    }
   ],
   "source": [
    "sorted_rating"
   ]
  },
  {
   "cell_type": "code",
   "execution_count": 318,
   "id": "701c1333",
   "metadata": {},
   "outputs": [
    {
     "data": {
      "text/html": [
       "<div>\n",
       "<style scoped>\n",
       "    .dataframe tbody tr th:only-of-type {\n",
       "        vertical-align: middle;\n",
       "    }\n",
       "\n",
       "    .dataframe tbody tr th {\n",
       "        vertical-align: top;\n",
       "    }\n",
       "\n",
       "    .dataframe thead th {\n",
       "        text-align: right;\n",
       "    }\n",
       "</style>\n",
       "<table border=\"1\" class=\"dataframe\">\n",
       "  <thead>\n",
       "    <tr style=\"text-align: right;\">\n",
       "      <th></th>\n",
       "      <th>movieId</th>\n",
       "      <th>title</th>\n",
       "      <th>url</th>\n",
       "      <th>director</th>\n",
       "      <th>year</th>\n",
       "      <th>genre</th>\n",
       "    </tr>\n",
       "  </thead>\n",
       "  <tbody>\n",
       "    <tr>\n",
       "      <th>76</th>\n",
       "      <td>77</td>\n",
       "      <td>Nico Icon (1995)</td>\n",
       "      <td>https://www.imdb.com/title/tt0113973/</td>\n",
       "      <td>Susanne Ofteringer</td>\n",
       "      <td>1995</td>\n",
       "      <td>Documentary</td>\n",
       "    </tr>\n",
       "    <tr>\n",
       "      <th>97</th>\n",
       "      <td>99</td>\n",
       "      <td>Heidi Fleiss: Hollywood Madam (1995)</td>\n",
       "      <td>https://www.imdb.com/title/tt0113283/</td>\n",
       "      <td>Nick Broomfield</td>\n",
       "      <td>1995</td>\n",
       "      <td>Documentary</td>\n",
       "    </tr>\n",
       "    <tr>\n",
       "      <th>106</th>\n",
       "      <td>108</td>\n",
       "      <td>Catwalk (1996)</td>\n",
       "      <td>https://www.imdb.com/title/tt0112646/</td>\n",
       "      <td>Robert Leacock</td>\n",
       "      <td>1996</td>\n",
       "      <td>Documentary</td>\n",
       "    </tr>\n",
       "    <tr>\n",
       "      <th>114</th>\n",
       "      <td>116</td>\n",
       "      <td>Anne Frank Remembered (1995)</td>\n",
       "      <td>https://www.imdb.com/title/tt0112373/</td>\n",
       "      <td>Jon Blair</td>\n",
       "      <td>1995</td>\n",
       "      <td>Documentary</td>\n",
       "    </tr>\n",
       "    <tr>\n",
       "      <th>126</th>\n",
       "      <td>128</td>\n",
       "      <td>Jupiter's Wife (1994)</td>\n",
       "      <td>https://www.imdb.com/title/tt0110217/</td>\n",
       "      <td>Michel Negroponte</td>\n",
       "      <td>1994</td>\n",
       "      <td>Documentary</td>\n",
       "    </tr>\n",
       "    <tr>\n",
       "      <th>...</th>\n",
       "      <td>...</td>\n",
       "      <td>...</td>\n",
       "      <td>...</td>\n",
       "      <td>...</td>\n",
       "      <td>...</td>\n",
       "      <td>...</td>\n",
       "    </tr>\n",
       "    <tr>\n",
       "      <th>62404</th>\n",
       "      <td>209123</td>\n",
       "      <td>Square Roots: The Story of SpongeBob SquarePan...</td>\n",
       "      <td>https://www.imdb.com/title/tt1489931/</td>\n",
       "      <td>NaN</td>\n",
       "      <td>2009</td>\n",
       "      <td>Documentary</td>\n",
       "    </tr>\n",
       "    <tr>\n",
       "      <th>62405</th>\n",
       "      <td>209129</td>\n",
       "      <td>Destination Titan (2011)</td>\n",
       "      <td>https://www.imdb.com/title/tt2361219/</td>\n",
       "      <td>NaN</td>\n",
       "      <td>2011</td>\n",
       "      <td>Documentary</td>\n",
       "    </tr>\n",
       "    <tr>\n",
       "      <th>62406</th>\n",
       "      <td>209131</td>\n",
       "      <td>Last Days of the Arctic (2011)</td>\n",
       "      <td>https://www.imdb.com/title/tt2040407/</td>\n",
       "      <td>NaN</td>\n",
       "      <td>2011</td>\n",
       "      <td>Documentary</td>\n",
       "    </tr>\n",
       "    <tr>\n",
       "      <th>62408</th>\n",
       "      <td>209135</td>\n",
       "      <td>Jane B. by Agnès V. (1988)</td>\n",
       "      <td>https://www.imdb.com/title/tt0093295/</td>\n",
       "      <td>NaN</td>\n",
       "      <td>1988</td>\n",
       "      <td>Documentary</td>\n",
       "    </tr>\n",
       "    <tr>\n",
       "      <th>62419</th>\n",
       "      <td>209159</td>\n",
       "      <td>Window of the Soul (2001)</td>\n",
       "      <td>https://www.imdb.com/title/tt0297986/</td>\n",
       "      <td>NaN</td>\n",
       "      <td>2001</td>\n",
       "      <td>Documentary</td>\n",
       "    </tr>\n",
       "  </tbody>\n",
       "</table>\n",
       "<p>7581 rows × 6 columns</p>\n",
       "</div>"
      ],
      "text/plain": [
       "       movieId                                              title  \\\n",
       "76          77                                   Nico Icon (1995)   \n",
       "97          99               Heidi Fleiss: Hollywood Madam (1995)   \n",
       "106        108                                     Catwalk (1996)   \n",
       "114        116                       Anne Frank Remembered (1995)   \n",
       "126        128                              Jupiter's Wife (1994)   \n",
       "...        ...                                                ...   \n",
       "62404   209123  Square Roots: The Story of SpongeBob SquarePan...   \n",
       "62405   209129                           Destination Titan (2011)   \n",
       "62406   209131                     Last Days of the Arctic (2011)   \n",
       "62408   209135                         Jane B. by Agnès V. (1988)   \n",
       "62419   209159                          Window of the Soul (2001)   \n",
       "\n",
       "                                         url            director  year  \\\n",
       "76     https://www.imdb.com/title/tt0113973/  Susanne Ofteringer  1995   \n",
       "97     https://www.imdb.com/title/tt0113283/     Nick Broomfield  1995   \n",
       "106    https://www.imdb.com/title/tt0112646/      Robert Leacock  1996   \n",
       "114    https://www.imdb.com/title/tt0112373/           Jon Blair  1995   \n",
       "126    https://www.imdb.com/title/tt0110217/   Michel Negroponte  1994   \n",
       "...                                      ...                 ...   ...   \n",
       "62404  https://www.imdb.com/title/tt1489931/                 NaN  2009   \n",
       "62405  https://www.imdb.com/title/tt2361219/                 NaN  2011   \n",
       "62406  https://www.imdb.com/title/tt2040407/                 NaN  2011   \n",
       "62408  https://www.imdb.com/title/tt0093295/                 NaN  1988   \n",
       "62419  https://www.imdb.com/title/tt0297986/                 NaN  2001   \n",
       "\n",
       "             genre  \n",
       "76     Documentary  \n",
       "97     Documentary  \n",
       "106    Documentary  \n",
       "114    Documentary  \n",
       "126    Documentary  \n",
       "...            ...  \n",
       "62404  Documentary  \n",
       "62405  Documentary  \n",
       "62406  Documentary  \n",
       "62408  Documentary  \n",
       "62419  Documentary  \n",
       "\n",
       "[7581 rows x 6 columns]"
      ]
     },
     "execution_count": 318,
     "metadata": {},
     "output_type": "execute_result"
    }
   ],
   "source": [
    "merged_data.iloc[col]  "
   ]
  },
  {
   "cell_type": "code",
   "execution_count": 311,
   "id": "d1fccafa",
   "metadata": {},
   "outputs": [],
   "source": [
    "url_links = pd.DataFrame()\n",
    "movieIds = [movieId for movieId in merged_data['movieId'] if movieId in sorted_rating['movieId']]\n",
    "#url_links['url'] = [merged_data['url'] for merged_data['mo']]"
   ]
  },
  {
   "cell_type": "code",
   "execution_count": 315,
   "id": "2be5c228",
   "metadata": {},
   "outputs": [],
   "source": [
    "movieIds\n",
    "suggested = merged_data[merged_data['movieId'].isin(movieIds)]['url']"
   ]
  },
  {
   "cell_type": "code",
   "execution_count": 316,
   "id": "ffe3e921",
   "metadata": {},
   "outputs": [
    {
     "data": {
      "text/plain": [
       "14642    https://www.imdb.com/title/tt0338977/\n",
       "14645    https://www.imdb.com/title/tt0074857/\n",
       "14646    https://www.imdb.com/title/tt1329454/\n",
       "14648    https://www.imdb.com/title/tt0892074/\n",
       "14649    https://www.imdb.com/title/tt0046424/\n",
       "14650    https://www.imdb.com/title/tt0054380/\n",
       "14660    https://www.imdb.com/title/tt1179056/\n",
       "16796    https://www.imdb.com/title/tt0783695/\n",
       "16805    https://www.imdb.com/title/tt0031282/\n",
       "Name: url, dtype: object"
      ]
     },
     "execution_count": 316,
     "metadata": {},
     "output_type": "execute_result"
    }
   ],
   "source": [
    "suggested"
   ]
  },
  {
   "cell_type": "code",
   "execution_count": 310,
   "id": "37a34530",
   "metadata": {},
   "outputs": [
    {
     "data": {
      "text/html": [
       "<div>\n",
       "<style scoped>\n",
       "    .dataframe tbody tr th:only-of-type {\n",
       "        vertical-align: middle;\n",
       "    }\n",
       "\n",
       "    .dataframe tbody tr th {\n",
       "        vertical-align: top;\n",
       "    }\n",
       "\n",
       "    .dataframe thead th {\n",
       "        text-align: right;\n",
       "    }\n",
       "</style>\n",
       "<table border=\"1\" class=\"dataframe\">\n",
       "  <thead>\n",
       "    <tr style=\"text-align: right;\">\n",
       "      <th></th>\n",
       "      <th>url</th>\n",
       "    </tr>\n",
       "  </thead>\n",
       "  <tbody>\n",
       "    <tr>\n",
       "      <th>0</th>\n",
       "      <td>1</td>\n",
       "    </tr>\n",
       "    <tr>\n",
       "      <th>1</th>\n",
       "      <td>2</td>\n",
       "    </tr>\n",
       "    <tr>\n",
       "      <th>2</th>\n",
       "      <td>3</td>\n",
       "    </tr>\n",
       "    <tr>\n",
       "      <th>3</th>\n",
       "      <td>4</td>\n",
       "    </tr>\n",
       "  </tbody>\n",
       "</table>\n",
       "</div>"
      ],
      "text/plain": [
       "   url\n",
       "0    1\n",
       "1    2\n",
       "2    3\n",
       "3    4"
      ]
     },
     "execution_count": 310,
     "metadata": {},
     "output_type": "execute_result"
    }
   ],
   "source": [
    "url_links"
   ]
  },
  {
   "cell_type": "code",
   "execution_count": 241,
   "id": "8afebe8d",
   "metadata": {},
   "outputs": [],
   "source": [
    "merged_data.to_csv('merged_data.csv', index=False, encoding='utf8')"
   ]
  },
  {
   "cell_type": "code",
   "execution_count": null,
   "id": "80d14acc",
   "metadata": {},
   "outputs": [],
   "source": []
  },
  {
   "cell_type": "code",
   "execution_count": 210,
   "id": "234865f3",
   "metadata": {},
   "outputs": [],
   "source": [
    "merged_director_genres = merged_director['genres'].str.split('|').apply(pd.Series, 1).stack()"
   ]
  },
  {
   "cell_type": "code",
   "execution_count": 211,
   "id": "5a26a0d1",
   "metadata": {},
   "outputs": [
    {
     "data": {
      "text/plain": [
       "0      0             Adventure\n",
       "       1             Animation\n",
       "       2              Children\n",
       "       3                Comedy\n",
       "       4               Fantasy\n",
       "                   ...        \n",
       "62420  1                 Drama\n",
       "62421  0    (no genres listed)\n",
       "62422  0                Action\n",
       "       1             Adventure\n",
       "       2                 Drama\n",
       "Length: 112307, dtype: object"
      ]
     },
     "execution_count": 211,
     "metadata": {},
     "output_type": "execute_result"
    }
   ],
   "source": [
    "merged_director_genres"
   ]
  },
  {
   "cell_type": "code",
   "execution_count": null,
   "id": "d596df33",
   "metadata": {},
   "outputs": [],
   "source": []
  },
  {
   "cell_type": "code",
   "execution_count": null,
   "id": "d75a07a0",
   "metadata": {},
   "outputs": [],
   "source": []
  },
  {
   "cell_type": "code",
   "execution_count": 200,
   "id": "23d27398",
   "metadata": {},
   "outputs": [
    {
     "data": {
      "text/plain": [
       "10494"
      ]
     },
     "execution_count": 200,
     "metadata": {},
     "output_type": "execute_result"
    }
   ],
   "source": [
    "len(merged_director['director'].unique())#.tail()"
   ]
  },
  {
   "cell_type": "code",
   "execution_count": 201,
   "id": "760baec4",
   "metadata": {},
   "outputs": [
    {
     "data": {
      "text/plain": [
       "62423"
      ]
     },
     "execution_count": 201,
     "metadata": {},
     "output_type": "execute_result"
    }
   ],
   "source": [
    "len(merged_director['movieId'].unique())"
   ]
  },
  {
   "cell_type": "code",
   "execution_count": null,
   "id": "73c71880",
   "metadata": {},
   "outputs": [],
   "source": []
  },
  {
   "cell_type": "code",
   "execution_count": 161,
   "id": "790b81b9",
   "metadata": {},
   "outputs": [],
   "source": [
    "merged_ratings = merged.merge(rating, how = 'left', on = 'movieId')"
   ]
  },
  {
   "cell_type": "code",
   "execution_count": 243,
   "id": "9e56e5de",
   "metadata": {},
   "outputs": [
    {
     "data": {
      "text/html": [
       "<div>\n",
       "<style scoped>\n",
       "    .dataframe tbody tr th:only-of-type {\n",
       "        vertical-align: middle;\n",
       "    }\n",
       "\n",
       "    .dataframe tbody tr th {\n",
       "        vertical-align: top;\n",
       "    }\n",
       "\n",
       "    .dataframe thead th {\n",
       "        text-align: right;\n",
       "    }\n",
       "</style>\n",
       "<table border=\"1\" class=\"dataframe\">\n",
       "  <thead>\n",
       "    <tr style=\"text-align: right;\">\n",
       "      <th></th>\n",
       "      <th>movieId</th>\n",
       "      <th>title</th>\n",
       "      <th>genres</th>\n",
       "      <th>imdbId</th>\n",
       "      <th>tmdbId</th>\n",
       "      <th>url</th>\n",
       "      <th>userId</th>\n",
       "      <th>rating</th>\n",
       "      <th>timestamp</th>\n",
       "      <th>year</th>\n",
       "    </tr>\n",
       "  </thead>\n",
       "  <tbody>\n",
       "    <tr>\n",
       "      <th>0</th>\n",
       "      <td>1</td>\n",
       "      <td>Toy Story (1995)</td>\n",
       "      <td>Adventure|Animation|Children|Comedy|Fantasy</td>\n",
       "      <td>114709</td>\n",
       "      <td>862.0</td>\n",
       "      <td>https://www.imdb.com/title/tt0114709/</td>\n",
       "      <td>7.0</td>\n",
       "      <td>3.0</td>\n",
       "      <td>8.518667e+08</td>\n",
       "      <td>1995</td>\n",
       "    </tr>\n",
       "    <tr>\n",
       "      <th>1</th>\n",
       "      <td>1</td>\n",
       "      <td>Toy Story (1995)</td>\n",
       "      <td>Adventure|Animation|Children|Comedy|Fantasy</td>\n",
       "      <td>114709</td>\n",
       "      <td>862.0</td>\n",
       "      <td>https://www.imdb.com/title/tt0114709/</td>\n",
       "      <td>9.0</td>\n",
       "      <td>4.0</td>\n",
       "      <td>9.386292e+08</td>\n",
       "      <td>1995</td>\n",
       "    </tr>\n",
       "    <tr>\n",
       "      <th>2</th>\n",
       "      <td>1</td>\n",
       "      <td>Toy Story (1995)</td>\n",
       "      <td>Adventure|Animation|Children|Comedy|Fantasy</td>\n",
       "      <td>114709</td>\n",
       "      <td>862.0</td>\n",
       "      <td>https://www.imdb.com/title/tt0114709/</td>\n",
       "      <td>13.0</td>\n",
       "      <td>5.0</td>\n",
       "      <td>1.331380e+09</td>\n",
       "      <td>1995</td>\n",
       "    </tr>\n",
       "    <tr>\n",
       "      <th>3</th>\n",
       "      <td>1</td>\n",
       "      <td>Toy Story (1995)</td>\n",
       "      <td>Adventure|Animation|Children|Comedy|Fantasy</td>\n",
       "      <td>114709</td>\n",
       "      <td>862.0</td>\n",
       "      <td>https://www.imdb.com/title/tt0114709/</td>\n",
       "      <td>15.0</td>\n",
       "      <td>2.0</td>\n",
       "      <td>9.979383e+08</td>\n",
       "      <td>1995</td>\n",
       "    </tr>\n",
       "    <tr>\n",
       "      <th>4</th>\n",
       "      <td>1</td>\n",
       "      <td>Toy Story (1995)</td>\n",
       "      <td>Adventure|Animation|Children|Comedy|Fantasy</td>\n",
       "      <td>114709</td>\n",
       "      <td>862.0</td>\n",
       "      <td>https://www.imdb.com/title/tt0114709/</td>\n",
       "      <td>19.0</td>\n",
       "      <td>3.0</td>\n",
       "      <td>8.551901e+08</td>\n",
       "      <td>1995</td>\n",
       "    </tr>\n",
       "  </tbody>\n",
       "</table>\n",
       "</div>"
      ],
      "text/plain": [
       "   movieId             title                                       genres  \\\n",
       "0        1  Toy Story (1995)  Adventure|Animation|Children|Comedy|Fantasy   \n",
       "1        1  Toy Story (1995)  Adventure|Animation|Children|Comedy|Fantasy   \n",
       "2        1  Toy Story (1995)  Adventure|Animation|Children|Comedy|Fantasy   \n",
       "3        1  Toy Story (1995)  Adventure|Animation|Children|Comedy|Fantasy   \n",
       "4        1  Toy Story (1995)  Adventure|Animation|Children|Comedy|Fantasy   \n",
       "\n",
       "   imdbId  tmdbId                                    url  userId  rating  \\\n",
       "0  114709   862.0  https://www.imdb.com/title/tt0114709/     7.0     3.0   \n",
       "1  114709   862.0  https://www.imdb.com/title/tt0114709/     9.0     4.0   \n",
       "2  114709   862.0  https://www.imdb.com/title/tt0114709/    13.0     5.0   \n",
       "3  114709   862.0  https://www.imdb.com/title/tt0114709/    15.0     2.0   \n",
       "4  114709   862.0  https://www.imdb.com/title/tt0114709/    19.0     3.0   \n",
       "\n",
       "      timestamp  year  \n",
       "0  8.518667e+08  1995  \n",
       "1  9.386292e+08  1995  \n",
       "2  1.331380e+09  1995  \n",
       "3  9.979383e+08  1995  \n",
       "4  8.551901e+08  1995  "
      ]
     },
     "execution_count": 243,
     "metadata": {},
     "output_type": "execute_result"
    }
   ],
   "source": [
    "merged_ratings.head()"
   ]
  },
  {
   "cell_type": "code",
   "execution_count": 244,
   "id": "add9acb1",
   "metadata": {},
   "outputs": [],
   "source": [
    "merged_ratings['year'] = merged_ratings['title'].apply(lambda x: x.split(' ')[-1]).str.extract(r'(\\d+)')"
   ]
  },
  {
   "cell_type": "code",
   "execution_count": 255,
   "id": "d5f4030d",
   "metadata": {
    "scrolled": true
   },
   "outputs": [],
   "source": [
    "most = merged_ratings.sort_values(['rating', 'year'], axis=0, ascending=[False, False])"
   ]
  },
  {
   "cell_type": "code",
   "execution_count": 260,
   "id": "e1f0e10f",
   "metadata": {},
   "outputs": [],
   "source": [
    "most_url = most[['url', 'rating', 'year']]"
   ]
  },
  {
   "cell_type": "code",
   "execution_count": 265,
   "id": "3ea8e44d",
   "metadata": {},
   "outputs": [
    {
     "data": {
      "text/plain": [
       "115452    2016\n",
       "115455    2016\n",
       "115498    2016\n",
       "115500    2016\n",
       "115502    2016\n",
       "          ... \n",
       "152770       0\n",
       "152803       0\n",
       "152984       0\n",
       "153025       0\n",
       "153079       0\n",
       "Name: year, Length: 153122, dtype: int32"
      ]
     },
     "execution_count": 265,
     "metadata": {},
     "output_type": "execute_result"
    }
   ],
   "source": [
    "most_url['year'].fillna(0).astype(int)"
   ]
  },
  {
   "cell_type": "code",
   "execution_count": 266,
   "id": "443ab85a",
   "metadata": {},
   "outputs": [
    {
     "data": {
      "text/html": [
       "<div>\n",
       "<style scoped>\n",
       "    .dataframe tbody tr th:only-of-type {\n",
       "        vertical-align: middle;\n",
       "    }\n",
       "\n",
       "    .dataframe tbody tr th {\n",
       "        vertical-align: top;\n",
       "    }\n",
       "\n",
       "    .dataframe thead th {\n",
       "        text-align: right;\n",
       "    }\n",
       "</style>\n",
       "<table border=\"1\" class=\"dataframe\">\n",
       "  <thead>\n",
       "    <tr style=\"text-align: right;\">\n",
       "      <th></th>\n",
       "      <th>url</th>\n",
       "      <th>rating</th>\n",
       "      <th>year</th>\n",
       "    </tr>\n",
       "  </thead>\n",
       "  <tbody>\n",
       "    <tr>\n",
       "      <th>115452</th>\n",
       "      <td>https://www.imdb.com/title/tt2638144/</td>\n",
       "      <td>5.0</td>\n",
       "      <td>2016</td>\n",
       "    </tr>\n",
       "    <tr>\n",
       "      <th>115455</th>\n",
       "      <td>https://www.imdb.com/title/tt0803096/</td>\n",
       "      <td>5.0</td>\n",
       "      <td>2016</td>\n",
       "    </tr>\n",
       "    <tr>\n",
       "      <th>115498</th>\n",
       "      <td>https://www.imdb.com/title/tt1431045/</td>\n",
       "      <td>5.0</td>\n",
       "      <td>2016</td>\n",
       "    </tr>\n",
       "    <tr>\n",
       "      <th>115500</th>\n",
       "      <td>https://www.imdb.com/title/tt1431045/</td>\n",
       "      <td>5.0</td>\n",
       "      <td>2016</td>\n",
       "    </tr>\n",
       "    <tr>\n",
       "      <th>115502</th>\n",
       "      <td>https://www.imdb.com/title/tt1431045/</td>\n",
       "      <td>5.0</td>\n",
       "      <td>2016</td>\n",
       "    </tr>\n",
       "    <tr>\n",
       "      <th>...</th>\n",
       "      <td>...</td>\n",
       "      <td>...</td>\n",
       "      <td>...</td>\n",
       "    </tr>\n",
       "    <tr>\n",
       "      <th>152770</th>\n",
       "      <td>https://www.imdb.com/title/tt11101550/</td>\n",
       "      <td>NaN</td>\n",
       "      <td>NaN</td>\n",
       "    </tr>\n",
       "    <tr>\n",
       "      <th>152803</th>\n",
       "      <td>https://www.imdb.com/title/tt4602718/</td>\n",
       "      <td>NaN</td>\n",
       "      <td>NaN</td>\n",
       "    </tr>\n",
       "    <tr>\n",
       "      <th>152984</th>\n",
       "      <td>https://www.imdb.com/title/tt3736766/</td>\n",
       "      <td>NaN</td>\n",
       "      <td>NaN</td>\n",
       "    </tr>\n",
       "    <tr>\n",
       "      <th>153025</th>\n",
       "      <td>https://www.imdb.com/title/tt0098693/</td>\n",
       "      <td>NaN</td>\n",
       "      <td>NaN</td>\n",
       "    </tr>\n",
       "    <tr>\n",
       "      <th>153079</th>\n",
       "      <td>https://www.imdb.com/title/tt0215759/</td>\n",
       "      <td>NaN</td>\n",
       "      <td>NaN</td>\n",
       "    </tr>\n",
       "  </tbody>\n",
       "</table>\n",
       "<p>153122 rows × 3 columns</p>\n",
       "</div>"
      ],
      "text/plain": [
       "                                           url  rating  year\n",
       "115452   https://www.imdb.com/title/tt2638144/     5.0  2016\n",
       "115455   https://www.imdb.com/title/tt0803096/     5.0  2016\n",
       "115498   https://www.imdb.com/title/tt1431045/     5.0  2016\n",
       "115500   https://www.imdb.com/title/tt1431045/     5.0  2016\n",
       "115502   https://www.imdb.com/title/tt1431045/     5.0  2016\n",
       "...                                        ...     ...   ...\n",
       "152770  https://www.imdb.com/title/tt11101550/     NaN   NaN\n",
       "152803   https://www.imdb.com/title/tt4602718/     NaN   NaN\n",
       "152984   https://www.imdb.com/title/tt3736766/     NaN   NaN\n",
       "153025   https://www.imdb.com/title/tt0098693/     NaN   NaN\n",
       "153079   https://www.imdb.com/title/tt0215759/     NaN   NaN\n",
       "\n",
       "[153122 rows x 3 columns]"
      ]
     },
     "execution_count": 266,
     "metadata": {},
     "output_type": "execute_result"
    }
   ],
   "source": [
    "most_url"
   ]
  },
  {
   "cell_type": "code",
   "execution_count": 267,
   "id": "0f180e6c",
   "metadata": {},
   "outputs": [],
   "source": [
    "most_url.to_csv('most_recent.csv', index=False, encoding='utf8')"
   ]
  },
  {
   "cell_type": "code",
   "execution_count": 170,
   "id": "0dfad120",
   "metadata": {},
   "outputs": [],
   "source": [
    "m = merged_ratings.fillna(0)#.sort_values(by='year', axis =0, ascending=False)#unique()#.head()"
   ]
  },
  {
   "cell_type": "code",
   "execution_count": 172,
   "id": "a12839e0",
   "metadata": {},
   "outputs": [
    {
     "data": {
      "text/html": [
       "<div>\n",
       "<style scoped>\n",
       "    .dataframe tbody tr th:only-of-type {\n",
       "        vertical-align: middle;\n",
       "    }\n",
       "\n",
       "    .dataframe tbody tr th {\n",
       "        vertical-align: top;\n",
       "    }\n",
       "\n",
       "    .dataframe thead th {\n",
       "        text-align: right;\n",
       "    }\n",
       "</style>\n",
       "<table border=\"1\" class=\"dataframe\">\n",
       "  <thead>\n",
       "    <tr style=\"text-align: right;\">\n",
       "      <th></th>\n",
       "      <th>movieId</th>\n",
       "      <th>title</th>\n",
       "      <th>genres</th>\n",
       "      <th>imdbId</th>\n",
       "      <th>tmdbId</th>\n",
       "      <th>url</th>\n",
       "      <th>userId</th>\n",
       "      <th>rating</th>\n",
       "      <th>timestamp</th>\n",
       "      <th>year</th>\n",
       "    </tr>\n",
       "  </thead>\n",
       "  <tbody>\n",
       "    <tr>\n",
       "      <th>1849</th>\n",
       "      <td>33</td>\n",
       "      <td>Wings of Courage (1995)</td>\n",
       "      <td>Adventure|Romance|IMAX</td>\n",
       "      <td>114952</td>\n",
       "      <td>78802.0</td>\n",
       "      <td>https://www.imdb.com/title/tt0114952/</td>\n",
       "      <td>0.0</td>\n",
       "      <td>0.0</td>\n",
       "      <td>0.0</td>\n",
       "      <td>1995</td>\n",
       "    </tr>\n",
       "    <tr>\n",
       "      <th>2845</th>\n",
       "      <td>51</td>\n",
       "      <td>Guardian Angel (1994)</td>\n",
       "      <td>Action|Drama|Thriller</td>\n",
       "      <td>109950</td>\n",
       "      <td>117164.0</td>\n",
       "      <td>https://www.imdb.com/title/tt0109950/</td>\n",
       "      <td>0.0</td>\n",
       "      <td>0.0</td>\n",
       "      <td>0.0</td>\n",
       "      <td>1994</td>\n",
       "    </tr>\n",
       "    <tr>\n",
       "      <th>2907</th>\n",
       "      <td>56</td>\n",
       "      <td>Kids of the Round Table (1995)</td>\n",
       "      <td>Adventure|Children|Comedy|Fantasy</td>\n",
       "      <td>113541</td>\n",
       "      <td>124057.0</td>\n",
       "      <td>https://www.imdb.com/title/tt0113541/</td>\n",
       "      <td>0.0</td>\n",
       "      <td>0.0</td>\n",
       "      <td>0.0</td>\n",
       "      <td>1995</td>\n",
       "    </tr>\n",
       "    <tr>\n",
       "      <th>3136</th>\n",
       "      <td>67</td>\n",
       "      <td>Two Bits (1995)</td>\n",
       "      <td>Drama</td>\n",
       "      <td>114753</td>\n",
       "      <td>40628.0</td>\n",
       "      <td>https://www.imdb.com/title/tt0114753/</td>\n",
       "      <td>0.0</td>\n",
       "      <td>0.0</td>\n",
       "      <td>0.0</td>\n",
       "      <td>1995</td>\n",
       "    </tr>\n",
       "    <tr>\n",
       "      <th>3260</th>\n",
       "      <td>75</td>\n",
       "      <td>Big Bully (1996)</td>\n",
       "      <td>Comedy|Drama</td>\n",
       "      <td>115676</td>\n",
       "      <td>36929.0</td>\n",
       "      <td>https://www.imdb.com/title/tt0115676/</td>\n",
       "      <td>0.0</td>\n",
       "      <td>0.0</td>\n",
       "      <td>0.0</td>\n",
       "      <td>1996</td>\n",
       "    </tr>\n",
       "    <tr>\n",
       "      <th>...</th>\n",
       "      <td>...</td>\n",
       "      <td>...</td>\n",
       "      <td>...</td>\n",
       "      <td>...</td>\n",
       "      <td>...</td>\n",
       "      <td>...</td>\n",
       "      <td>...</td>\n",
       "      <td>...</td>\n",
       "      <td>...</td>\n",
       "      <td>...</td>\n",
       "    </tr>\n",
       "    <tr>\n",
       "      <th>153117</th>\n",
       "      <td>209157</td>\n",
       "      <td>We (2018)</td>\n",
       "      <td>Drama</td>\n",
       "      <td>6671244</td>\n",
       "      <td>499546.0</td>\n",
       "      <td>https://www.imdb.com/title/tt6671244/</td>\n",
       "      <td>0.0</td>\n",
       "      <td>0.0</td>\n",
       "      <td>0.0</td>\n",
       "      <td>2018</td>\n",
       "    </tr>\n",
       "    <tr>\n",
       "      <th>153118</th>\n",
       "      <td>209159</td>\n",
       "      <td>Window of the Soul (2001)</td>\n",
       "      <td>Documentary</td>\n",
       "      <td>297986</td>\n",
       "      <td>63407.0</td>\n",
       "      <td>https://www.imdb.com/title/tt0297986/</td>\n",
       "      <td>0.0</td>\n",
       "      <td>0.0</td>\n",
       "      <td>0.0</td>\n",
       "      <td>2001</td>\n",
       "    </tr>\n",
       "    <tr>\n",
       "      <th>153119</th>\n",
       "      <td>209163</td>\n",
       "      <td>Bad Poems (2018)</td>\n",
       "      <td>Comedy|Drama</td>\n",
       "      <td>6755366</td>\n",
       "      <td>553036.0</td>\n",
       "      <td>https://www.imdb.com/title/tt6755366/</td>\n",
       "      <td>0.0</td>\n",
       "      <td>0.0</td>\n",
       "      <td>0.0</td>\n",
       "      <td>2018</td>\n",
       "    </tr>\n",
       "    <tr>\n",
       "      <th>153120</th>\n",
       "      <td>209169</td>\n",
       "      <td>A Girl Thing (2001)</td>\n",
       "      <td>(no genres listed)</td>\n",
       "      <td>249603</td>\n",
       "      <td>162892.0</td>\n",
       "      <td>https://www.imdb.com/title/tt0249603/</td>\n",
       "      <td>0.0</td>\n",
       "      <td>0.0</td>\n",
       "      <td>0.0</td>\n",
       "      <td>2001</td>\n",
       "    </tr>\n",
       "    <tr>\n",
       "      <th>153121</th>\n",
       "      <td>209171</td>\n",
       "      <td>Women of Devil's Island (1962)</td>\n",
       "      <td>Action|Adventure|Drama</td>\n",
       "      <td>55323</td>\n",
       "      <td>79513.0</td>\n",
       "      <td>https://www.imdb.com/title/tt0055323/</td>\n",
       "      <td>0.0</td>\n",
       "      <td>0.0</td>\n",
       "      <td>0.0</td>\n",
       "      <td>1962</td>\n",
       "    </tr>\n",
       "  </tbody>\n",
       "</table>\n",
       "<p>53561 rows × 10 columns</p>\n",
       "</div>"
      ],
      "text/plain": [
       "        movieId                           title  \\\n",
       "1849         33         Wings of Courage (1995)   \n",
       "2845         51           Guardian Angel (1994)   \n",
       "2907         56  Kids of the Round Table (1995)   \n",
       "3136         67                 Two Bits (1995)   \n",
       "3260         75                Big Bully (1996)   \n",
       "...         ...                             ...   \n",
       "153117   209157                       We (2018)   \n",
       "153118   209159       Window of the Soul (2001)   \n",
       "153119   209163                Bad Poems (2018)   \n",
       "153120   209169             A Girl Thing (2001)   \n",
       "153121   209171  Women of Devil's Island (1962)   \n",
       "\n",
       "                                   genres   imdbId    tmdbId  \\\n",
       "1849               Adventure|Romance|IMAX   114952   78802.0   \n",
       "2845                Action|Drama|Thriller   109950  117164.0   \n",
       "2907    Adventure|Children|Comedy|Fantasy   113541  124057.0   \n",
       "3136                                Drama   114753   40628.0   \n",
       "3260                         Comedy|Drama   115676   36929.0   \n",
       "...                                   ...      ...       ...   \n",
       "153117                              Drama  6671244  499546.0   \n",
       "153118                        Documentary   297986   63407.0   \n",
       "153119                       Comedy|Drama  6755366  553036.0   \n",
       "153120                 (no genres listed)   249603  162892.0   \n",
       "153121             Action|Adventure|Drama    55323   79513.0   \n",
       "\n",
       "                                          url  userId  rating  timestamp  year  \n",
       "1849    https://www.imdb.com/title/tt0114952/     0.0     0.0        0.0  1995  \n",
       "2845    https://www.imdb.com/title/tt0109950/     0.0     0.0        0.0  1994  \n",
       "2907    https://www.imdb.com/title/tt0113541/     0.0     0.0        0.0  1995  \n",
       "3136    https://www.imdb.com/title/tt0114753/     0.0     0.0        0.0  1995  \n",
       "3260    https://www.imdb.com/title/tt0115676/     0.0     0.0        0.0  1996  \n",
       "...                                       ...     ...     ...        ...   ...  \n",
       "153117  https://www.imdb.com/title/tt6671244/     0.0     0.0        0.0  2018  \n",
       "153118  https://www.imdb.com/title/tt0297986/     0.0     0.0        0.0  2001  \n",
       "153119  https://www.imdb.com/title/tt6755366/     0.0     0.0        0.0  2018  \n",
       "153120  https://www.imdb.com/title/tt0249603/     0.0     0.0        0.0  2001  \n",
       "153121  https://www.imdb.com/title/tt0055323/     0.0     0.0        0.0  1962  \n",
       "\n",
       "[53561 rows x 10 columns]"
      ]
     },
     "execution_count": 172,
     "metadata": {},
     "output_type": "execute_result"
    }
   ],
   "source": [
    "m[m['rating'] == 0]"
   ]
  },
  {
   "cell_type": "code",
   "execution_count": 149,
   "id": "021dfb85",
   "metadata": {},
   "outputs": [],
   "source": [
    "# merged['year'].unique()\n",
    "# Fill NaN values with 0 and convert the years to integers.\n",
    "merged['year'] = merged['year'].fillna(0).astype(int)\n",
    "\n",
    "# Fish out the odd years\n",
    "odd_ones = [0, 2, 3, 5, 6, 25, 101, 261]\n",
    "\n",
    "# Slice the merged data frame by removing the records with the odd year.\n",
    "merged = merged[~merged['year'].isin(odd_ones)]"
   ]
  },
  {
   "cell_type": "code",
   "execution_count": 150,
   "id": "6b28b30c",
   "metadata": {},
   "outputs": [
    {
     "data": {
      "text/plain": [
       "array([1995, 1994, 1996, 1976, 1992, 1988, 1967, 1993, 1964, 1977, 1965,\n",
       "       1982, 1990, 1991, 1989, 1937, 1940, 1969, 1981, 1973, 1970, 1960,\n",
       "       1955, 1959, 1968, 1980, 1975, 1986, 1948, 1943, 1950, 1946, 1987,\n",
       "       1997, 1974, 1956, 1958, 1949, 1972, 1998, 1933, 1952, 1951, 1957,\n",
       "       1961, 1954, 1934, 1944, 1963, 1942, 1941, 1953, 1939, 1947, 1945,\n",
       "       1938, 1935, 1936, 1926, 1932, 1985, 1979, 1971, 1978, 1966, 1962,\n",
       "       1983, 1984, 1931, 1922, 1999, 1927, 1929, 1930, 1928, 1925, 1914,\n",
       "       2000, 1919, 1923, 1920, 1918, 1921, 2001, 1924, 2002, 2003, 1915,\n",
       "       2004, 1916, 1917, 2005, 2006, 1902, 1903, 2007, 2008, 2009, 1912,\n",
       "       2010, 1913, 2011, 1898, 1899, 1894, 2012, 1910, 2013, 1896, 2014,\n",
       "       2015, 1895, 1909, 1911, 1900, 2016, 2017, 2018, 2019, 1905, 1904,\n",
       "       1891, 1892, 1908, 1897, 1887, 1888, 1890, 1878, 1874, 1901, 1907,\n",
       "       1906, 1883, 1880])"
      ]
     },
     "execution_count": 150,
     "metadata": {},
     "output_type": "execute_result"
    }
   ],
   "source": [
    "merged['year'].unique()"
   ]
  },
  {
   "cell_type": "code",
   "execution_count": 117,
   "id": "c7620fb4",
   "metadata": {},
   "outputs": [],
   "source": [
    "merged.to_csv('merged_data.csv', index=False, encoding='utf8')"
   ]
  },
  {
   "cell_type": "code",
   "execution_count": null,
   "id": "87fe9703",
   "metadata": {},
   "outputs": [],
   "source": []
  },
  {
   "cell_type": "code",
   "execution_count": 14,
   "id": "00fcf112",
   "metadata": {},
   "outputs": [],
   "source": [
    "# merged['year'] = merged['title'].str.extract(r'(\\d+)')"
   ]
  },
  {
   "cell_type": "code",
   "execution_count": 118,
   "id": "1fbc26bb",
   "metadata": {},
   "outputs": [],
   "source": [
    "merged['year'] = merged['year'].fillna(0).astype(int)"
   ]
  },
  {
   "cell_type": "code",
   "execution_count": 122,
   "id": "35b949ce",
   "metadata": {},
   "outputs": [
    {
     "data": {
      "text/plain": [
       "0        1995\n",
       "1        1995\n",
       "2        1995\n",
       "3        1995\n",
       "4        1995\n",
       "         ... \n",
       "62418    2018\n",
       "62419    2001\n",
       "62420    2018\n",
       "62421    2001\n",
       "62422    1962\n",
       "Name: year, Length: 62423, dtype: int32"
      ]
     },
     "execution_count": 122,
     "metadata": {},
     "output_type": "execute_result"
    }
   ],
   "source": [
    "merged['year']"
   ]
  },
  {
   "cell_type": "code",
   "execution_count": null,
   "id": "b93fb475",
   "metadata": {},
   "outputs": [],
   "source": []
  },
  {
   "cell_type": "code",
   "execution_count": 124,
   "id": "ff39823c",
   "metadata": {},
   "outputs": [
    {
     "data": {
      "text/html": [
       "<div>\n",
       "<style scoped>\n",
       "    .dataframe tbody tr th:only-of-type {\n",
       "        vertical-align: middle;\n",
       "    }\n",
       "\n",
       "    .dataframe tbody tr th {\n",
       "        vertical-align: top;\n",
       "    }\n",
       "\n",
       "    .dataframe thead th {\n",
       "        text-align: right;\n",
       "    }\n",
       "</style>\n",
       "<table border=\"1\" class=\"dataframe\">\n",
       "  <thead>\n",
       "    <tr style=\"text-align: right;\">\n",
       "      <th></th>\n",
       "      <th>movieId</th>\n",
       "      <th>title</th>\n",
       "      <th>genres</th>\n",
       "      <th>imdbId</th>\n",
       "      <th>tmdbId</th>\n",
       "      <th>url</th>\n",
       "      <th>year</th>\n",
       "    </tr>\n",
       "  </thead>\n",
       "  <tbody>\n",
       "    <tr>\n",
       "      <th>8463</th>\n",
       "      <td>25936</td>\n",
       "      <td>Babe Ruth Story, The (1948)</td>\n",
       "      <td>Drama</td>\n",
       "      <td>40142</td>\n",
       "      <td>43452.0</td>\n",
       "      <td>https://www.imdb.com/title/tt0040142/</td>\n",
       "      <td>0</td>\n",
       "    </tr>\n",
       "    <tr>\n",
       "      <th>8602</th>\n",
       "      <td>26137</td>\n",
       "      <td>Heroes of Telemark, The (1965)</td>\n",
       "      <td>Action|Drama|War</td>\n",
       "      <td>59263</td>\n",
       "      <td>16850.0</td>\n",
       "      <td>https://www.imdb.com/title/tt0059263/</td>\n",
       "      <td>0</td>\n",
       "    </tr>\n",
       "    <tr>\n",
       "      <th>8910</th>\n",
       "      <td>26628</td>\n",
       "      <td>Jack's Back (1988)</td>\n",
       "      <td>Crime|Horror|Mystery|Thriller</td>\n",
       "      <td>95389</td>\n",
       "      <td>41959.0</td>\n",
       "      <td>https://www.imdb.com/title/tt0095389/</td>\n",
       "      <td>0</td>\n",
       "    </tr>\n",
       "    <tr>\n",
       "      <th>9120</th>\n",
       "      <td>27189</td>\n",
       "      <td>After the Rain (Ame agaru) (1999)</td>\n",
       "      <td>Action|Drama</td>\n",
       "      <td>181960</td>\n",
       "      <td>15319.0</td>\n",
       "      <td>https://www.imdb.com/title/tt0181960/</td>\n",
       "      <td>0</td>\n",
       "    </tr>\n",
       "    <tr>\n",
       "      <th>9763</th>\n",
       "      <td>32497</td>\n",
       "      <td>Love Letter (1995)</td>\n",
       "      <td>Drama|Romance</td>\n",
       "      <td>113703</td>\n",
       "      <td>47002.0</td>\n",
       "      <td>https://www.imdb.com/title/tt0113703/</td>\n",
       "      <td>0</td>\n",
       "    </tr>\n",
       "    <tr>\n",
       "      <th>...</th>\n",
       "      <td>...</td>\n",
       "      <td>...</td>\n",
       "      <td>...</td>\n",
       "      <td>...</td>\n",
       "      <td>...</td>\n",
       "      <td>...</td>\n",
       "      <td>...</td>\n",
       "    </tr>\n",
       "    <tr>\n",
       "      <th>62071</th>\n",
       "      <td>207714</td>\n",
       "      <td>Tales of Found Footage</td>\n",
       "      <td>(no genres listed)</td>\n",
       "      <td>11101550</td>\n",
       "      <td>640427.0</td>\n",
       "      <td>https://www.imdb.com/title/tt11101550/</td>\n",
       "      <td>0</td>\n",
       "    </tr>\n",
       "    <tr>\n",
       "      <th>62104</th>\n",
       "      <td>207884</td>\n",
       "      <td>Enduring Destiny</td>\n",
       "      <td>(no genres listed)</td>\n",
       "      <td>4602718</td>\n",
       "      <td>528815.0</td>\n",
       "      <td>https://www.imdb.com/title/tt4602718/</td>\n",
       "      <td>0</td>\n",
       "    </tr>\n",
       "    <tr>\n",
       "      <th>62285</th>\n",
       "      <td>208597</td>\n",
       "      <td>Punk the Capital: Building a Sound Movement</td>\n",
       "      <td>Documentary</td>\n",
       "      <td>3736766</td>\n",
       "      <td>636391.0</td>\n",
       "      <td>https://www.imdb.com/title/tt3736766/</td>\n",
       "      <td>0</td>\n",
       "    </tr>\n",
       "    <tr>\n",
       "      <th>62326</th>\n",
       "      <td>208763</td>\n",
       "      <td>Yosemite: The Fate of Heaven</td>\n",
       "      <td>(no genres listed)</td>\n",
       "      <td>98693</td>\n",
       "      <td>352556.0</td>\n",
       "      <td>https://www.imdb.com/title/tt0098693/</td>\n",
       "      <td>0</td>\n",
       "    </tr>\n",
       "    <tr>\n",
       "      <th>62380</th>\n",
       "      <td>208973</td>\n",
       "      <td>The Falklands War: The Untold Story</td>\n",
       "      <td>(no genres listed)</td>\n",
       "      <td>215759</td>\n",
       "      <td>514317.0</td>\n",
       "      <td>https://www.imdb.com/title/tt0215759/</td>\n",
       "      <td>0</td>\n",
       "    </tr>\n",
       "  </tbody>\n",
       "</table>\n",
       "<p>552 rows × 7 columns</p>\n",
       "</div>"
      ],
      "text/plain": [
       "       movieId                                        title  \\\n",
       "8463     25936                 Babe Ruth Story, The (1948)    \n",
       "8602     26137              Heroes of Telemark, The (1965)    \n",
       "8910     26628                          Jack's Back (1988)    \n",
       "9120     27189           After the Rain (Ame agaru) (1999)    \n",
       "9763     32497                          Love Letter (1995)    \n",
       "...        ...                                          ...   \n",
       "62071   207714                       Tales of Found Footage   \n",
       "62104   207884                             Enduring Destiny   \n",
       "62285   208597  Punk the Capital: Building a Sound Movement   \n",
       "62326   208763                 Yosemite: The Fate of Heaven   \n",
       "62380   208973          The Falklands War: The Untold Story   \n",
       "\n",
       "                              genres    imdbId    tmdbId  \\\n",
       "8463                           Drama     40142   43452.0   \n",
       "8602                Action|Drama|War     59263   16850.0   \n",
       "8910   Crime|Horror|Mystery|Thriller     95389   41959.0   \n",
       "9120                    Action|Drama    181960   15319.0   \n",
       "9763                   Drama|Romance    113703   47002.0   \n",
       "...                              ...       ...       ...   \n",
       "62071             (no genres listed)  11101550  640427.0   \n",
       "62104             (no genres listed)   4602718  528815.0   \n",
       "62285                    Documentary   3736766  636391.0   \n",
       "62326             (no genres listed)     98693  352556.0   \n",
       "62380             (no genres listed)    215759  514317.0   \n",
       "\n",
       "                                          url  year  \n",
       "8463    https://www.imdb.com/title/tt0040142/     0  \n",
       "8602    https://www.imdb.com/title/tt0059263/     0  \n",
       "8910    https://www.imdb.com/title/tt0095389/     0  \n",
       "9120    https://www.imdb.com/title/tt0181960/     0  \n",
       "9763    https://www.imdb.com/title/tt0113703/     0  \n",
       "...                                       ...   ...  \n",
       "62071  https://www.imdb.com/title/tt11101550/     0  \n",
       "62104   https://www.imdb.com/title/tt4602718/     0  \n",
       "62285   https://www.imdb.com/title/tt3736766/     0  \n",
       "62326   https://www.imdb.com/title/tt0098693/     0  \n",
       "62380   https://www.imdb.com/title/tt0215759/     0  \n",
       "\n",
       "[552 rows x 7 columns]"
      ]
     },
     "execution_count": 124,
     "metadata": {},
     "output_type": "execute_result"
    }
   ],
   "source": [
    "merged[merged['year']== 0]# or merged['year']== 101 or merged['year']== 6 or merged['year']== 2]"
   ]
  },
  {
   "cell_type": "code",
   "execution_count": 35,
   "id": "4e6f229b",
   "metadata": {},
   "outputs": [],
   "source": [
    "year_data = pd.DataFrame(merged['year'].unique(), columns=['year'])"
   ]
  },
  {
   "cell_type": "code",
   "execution_count": 66,
   "id": "c5595c7c",
   "metadata": {},
   "outputs": [],
   "source": [
    "year_data.sort_values(by='year', axis =0, ascending=False, inplace=True)"
   ]
  },
  {
   "cell_type": "code",
   "execution_count": 67,
   "id": "6233af75",
   "metadata": {},
   "outputs": [
    {
     "data": {
      "text/html": [
       "<div>\n",
       "<style scoped>\n",
       "    .dataframe tbody tr th:only-of-type {\n",
       "        vertical-align: middle;\n",
       "    }\n",
       "\n",
       "    .dataframe tbody tr th {\n",
       "        vertical-align: top;\n",
       "    }\n",
       "\n",
       "    .dataframe thead th {\n",
       "        text-align: right;\n",
       "    }\n",
       "</style>\n",
       "<table border=\"1\" class=\"dataframe\">\n",
       "  <thead>\n",
       "    <tr style=\"text-align: right;\">\n",
       "      <th></th>\n",
       "      <th>year</th>\n",
       "    </tr>\n",
       "  </thead>\n",
       "  <tbody>\n",
       "    <tr>\n",
       "      <th>119</th>\n",
       "      <td>2019</td>\n",
       "    </tr>\n",
       "    <tr>\n",
       "      <th>118</th>\n",
       "      <td>2018</td>\n",
       "    </tr>\n",
       "    <tr>\n",
       "      <th>117</th>\n",
       "      <td>2017</td>\n",
       "    </tr>\n",
       "    <tr>\n",
       "      <th>116</th>\n",
       "      <td>2016</td>\n",
       "    </tr>\n",
       "    <tr>\n",
       "      <th>111</th>\n",
       "      <td>2015</td>\n",
       "    </tr>\n",
       "    <tr>\n",
       "      <th>...</th>\n",
       "      <td>...</td>\n",
       "    </tr>\n",
       "    <tr>\n",
       "      <th>127</th>\n",
       "      <td>1887</td>\n",
       "    </tr>\n",
       "    <tr>\n",
       "      <th>137</th>\n",
       "      <td>1883</td>\n",
       "    </tr>\n",
       "    <tr>\n",
       "      <th>141</th>\n",
       "      <td>1880</td>\n",
       "    </tr>\n",
       "    <tr>\n",
       "      <th>130</th>\n",
       "      <td>1878</td>\n",
       "    </tr>\n",
       "    <tr>\n",
       "      <th>131</th>\n",
       "      <td>1874</td>\n",
       "    </tr>\n",
       "  </tbody>\n",
       "</table>\n",
       "<p>135 rows × 1 columns</p>\n",
       "</div>"
      ],
      "text/plain": [
       "     year\n",
       "119  2019\n",
       "118  2018\n",
       "117  2017\n",
       "116  2016\n",
       "111  2015\n",
       "..    ...\n",
       "127  1887\n",
       "137  1883\n",
       "141  1880\n",
       "130  1878\n",
       "131  1874\n",
       "\n",
       "[135 rows x 1 columns]"
      ]
     },
     "execution_count": 67,
     "metadata": {},
     "output_type": "execute_result"
    }
   ],
   "source": [
    "year_data"
   ]
  },
  {
   "cell_type": "code",
   "execution_count": 68,
   "id": "1406e28b",
   "metadata": {},
   "outputs": [],
   "source": [
    "year_data.to_csv('year_data.csv', index = False, encoding = 'utf8')#.drop(2, inplace=True)"
   ]
  },
  {
   "cell_type": "code",
   "execution_count": 81,
   "id": "adf78ce8",
   "metadata": {},
   "outputs": [],
   "source": [
    "sorted_merged = merged.sort_values('year', axis=0, ascending=False)"
   ]
  },
  {
   "cell_type": "code",
   "execution_count": 70,
   "id": "5f10d6c2",
   "metadata": {},
   "outputs": [
    {
     "data": {
      "text/html": [
       "<div>\n",
       "<style scoped>\n",
       "    .dataframe tbody tr th:only-of-type {\n",
       "        vertical-align: middle;\n",
       "    }\n",
       "\n",
       "    .dataframe tbody tr th {\n",
       "        vertical-align: top;\n",
       "    }\n",
       "\n",
       "    .dataframe thead th {\n",
       "        text-align: right;\n",
       "    }\n",
       "</style>\n",
       "<table border=\"1\" class=\"dataframe\">\n",
       "  <thead>\n",
       "    <tr style=\"text-align: right;\">\n",
       "      <th></th>\n",
       "      <th>movieId</th>\n",
       "      <th>title</th>\n",
       "      <th>genres</th>\n",
       "    </tr>\n",
       "  </thead>\n",
       "  <tbody>\n",
       "    <tr>\n",
       "      <th>0</th>\n",
       "      <td>1</td>\n",
       "      <td>Toy Story (1995)</td>\n",
       "      <td>Adventure|Animation|Children|Comedy|Fantasy</td>\n",
       "    </tr>\n",
       "    <tr>\n",
       "      <th>1</th>\n",
       "      <td>2</td>\n",
       "      <td>Jumanji (1995)</td>\n",
       "      <td>Adventure|Children|Fantasy</td>\n",
       "    </tr>\n",
       "    <tr>\n",
       "      <th>2</th>\n",
       "      <td>3</td>\n",
       "      <td>Grumpier Old Men (1995)</td>\n",
       "      <td>Comedy|Romance</td>\n",
       "    </tr>\n",
       "    <tr>\n",
       "      <th>3</th>\n",
       "      <td>4</td>\n",
       "      <td>Waiting to Exhale (1995)</td>\n",
       "      <td>Comedy|Drama|Romance</td>\n",
       "    </tr>\n",
       "    <tr>\n",
       "      <th>4</th>\n",
       "      <td>5</td>\n",
       "      <td>Father of the Bride Part II (1995)</td>\n",
       "      <td>Comedy</td>\n",
       "    </tr>\n",
       "  </tbody>\n",
       "</table>\n",
       "</div>"
      ],
      "text/plain": [
       "   movieId                               title  \\\n",
       "0        1                    Toy Story (1995)   \n",
       "1        2                      Jumanji (1995)   \n",
       "2        3             Grumpier Old Men (1995)   \n",
       "3        4            Waiting to Exhale (1995)   \n",
       "4        5  Father of the Bride Part II (1995)   \n",
       "\n",
       "                                        genres  \n",
       "0  Adventure|Animation|Children|Comedy|Fantasy  \n",
       "1                   Adventure|Children|Fantasy  \n",
       "2                               Comedy|Romance  \n",
       "3                         Comedy|Drama|Romance  \n",
       "4                                       Comedy  "
      ]
     },
     "execution_count": 70,
     "metadata": {},
     "output_type": "execute_result"
    }
   ],
   "source": [
    "movie.head()"
   ]
  },
  {
   "cell_type": "code",
   "execution_count": 74,
   "id": "59773f50",
   "metadata": {},
   "outputs": [],
   "source": [
    "genre = pd.DataFrame(movie['genres'].apply(lambda x: x.split(\"|\")))"
   ]
  },
  {
   "cell_type": "code",
   "execution_count": 90,
   "id": "bbf32251",
   "metadata": {},
   "outputs": [],
   "source": [
    "genres = movie['genres'].str.split('|').apply(pd.Series, 1).stack()"
   ]
  },
  {
   "cell_type": "code",
   "execution_count": 91,
   "id": "3da3b321",
   "metadata": {},
   "outputs": [],
   "source": [
    "genres = pd.DataFrame(genres, columns=['genre'])"
   ]
  },
  {
   "cell_type": "code",
   "execution_count": 95,
   "id": "68f0c191",
   "metadata": {},
   "outputs": [],
   "source": [
    "genres = genres.reset_index()"
   ]
  },
  {
   "cell_type": "code",
   "execution_count": 107,
   "id": "d224765e",
   "metadata": {},
   "outputs": [],
   "source": [
    "genre_data = pd.DataFrame(genres['genre'].unique(), columns=['genre']).sort_values('genre', axis = 0, ascending=True)"
   ]
  },
  {
   "cell_type": "code",
   "execution_count": 109,
   "id": "90be089c",
   "metadata": {},
   "outputs": [],
   "source": [
    "genre_data.drop(19, inplace=True)"
   ]
  },
  {
   "cell_type": "code",
   "execution_count": 111,
   "id": "eb8663fc",
   "metadata": {},
   "outputs": [],
   "source": [
    "genre_data.to_csv('genre_data.csv', index = False, encoding = 'utf8')"
   ]
  },
  {
   "cell_type": "code",
   "execution_count": null,
   "id": "525c2426",
   "metadata": {},
   "outputs": [],
   "source": []
  },
  {
   "cell_type": "code",
   "execution_count": null,
   "id": "8fd43447",
   "metadata": {},
   "outputs": [],
   "source": []
  },
  {
   "cell_type": "code",
   "execution_count": 110,
   "id": "b1ac95ec",
   "metadata": {},
   "outputs": [],
   "source": [
    "sorted_merged.to_csv('most_recent.csv', index = False, encoding = 'utf8')"
   ]
  },
  {
   "cell_type": "code",
   "execution_count": 93,
   "id": "5070dd64",
   "metadata": {},
   "outputs": [],
   "source": [
    "sampled_recent = most_recent.head(20).sample(3)"
   ]
  },
  {
   "cell_type": "code",
   "execution_count": 95,
   "id": "34083247",
   "metadata": {
    "scrolled": true
   },
   "outputs": [
    {
     "name": "stdout",
     "output_type": "stream",
     "text": [
      "https://www.imdb.com/title/tt9758270/\n",
      "https://www.imdb.com/title/tt4638148/\n",
      "https://www.imdb.com/title/tt9426212/\n"
     ]
    }
   ],
   "source": [
    "for link in sampled_recent['url']:\n",
    "    print(link)"
   ]
  },
  {
   "cell_type": "code",
   "execution_count": 134,
   "id": "e1d5d34b",
   "metadata": {},
   "outputs": [
    {
     "data": {
      "text/plain": [
       "60953    2019\n",
       "58424    2019\n",
       "58289    2019\n",
       "Name: year, dtype: int32"
      ]
     },
     "execution_count": 134,
     "metadata": {},
     "output_type": "execute_result"
    }
   ],
   "source": [
    "sampled_recent['year']"
   ]
  },
  {
   "cell_type": "code",
   "execution_count": 131,
   "id": "2cae19d9",
   "metadata": {},
   "outputs": [],
   "source": [
    "# df_merged = merged.drop(merged.index[[num for num in merged['year'] if len(str(num)) < 4]], axis = 0) #unique() #.groupby('year').count()"
   ]
  },
  {
   "cell_type": "code",
   "execution_count": 129,
   "id": "63e907ac",
   "metadata": {},
   "outputs": [],
   "source": [
    "odd = [num for num in merged['year'] if len(str(num)) < 4]\n",
    "\n",
    "year = list(set([record for record in merged['year'] if record not in odd]))"
   ]
  },
  {
   "cell_type": "code",
   "execution_count": 132,
   "id": "57adb2cc",
   "metadata": {},
   "outputs": [],
   "source": [
    "# merged[merged['year'] == year]"
   ]
  },
  {
   "cell_type": "code",
   "execution_count": 97,
   "id": "4d2bafee",
   "metadata": {},
   "outputs": [
    {
     "data": {
      "text/html": [
       "<div>\n",
       "<style scoped>\n",
       "    .dataframe tbody tr th:only-of-type {\n",
       "        vertical-align: middle;\n",
       "    }\n",
       "\n",
       "    .dataframe tbody tr th {\n",
       "        vertical-align: top;\n",
       "    }\n",
       "\n",
       "    .dataframe thead th {\n",
       "        text-align: right;\n",
       "    }\n",
       "</style>\n",
       "<table border=\"1\" class=\"dataframe\">\n",
       "  <thead>\n",
       "    <tr style=\"text-align: right;\">\n",
       "      <th></th>\n",
       "      <th>movieId</th>\n",
       "      <th>title</th>\n",
       "      <th>genres</th>\n",
       "      <th>imdbId</th>\n",
       "      <th>tmdbId</th>\n",
       "      <th>url</th>\n",
       "      <th>year</th>\n",
       "    </tr>\n",
       "  </thead>\n",
       "  <tbody>\n",
       "    <tr>\n",
       "      <th>36122</th>\n",
       "      <td>149502</td>\n",
       "      <td>101次求婚</td>\n",
       "      <td>(no genres listed)</td>\n",
       "      <td>1674766</td>\n",
       "      <td>187006.0</td>\n",
       "      <td>https://www.imdb.com/title/tt01674766/</td>\n",
       "      <td>101</td>\n",
       "    </tr>\n",
       "  </tbody>\n",
       "</table>\n",
       "</div>"
      ],
      "text/plain": [
       "       movieId   title              genres   imdbId    tmdbId  \\\n",
       "36122   149502  101次求婚  (no genres listed)  1674766  187006.0   \n",
       "\n",
       "                                          url year  \n",
       "36122  https://www.imdb.com/title/tt01674766/  101  "
      ]
     },
     "execution_count": 97,
     "metadata": {},
     "output_type": "execute_result"
    }
   ],
   "source": [
    "merged[merged['year'] == '101']"
   ]
  },
  {
   "cell_type": "code",
   "execution_count": 9,
   "id": "f941923f",
   "metadata": {},
   "outputs": [],
   "source": [
    "# data['url'] = data['imdbId'].apply(lambda x: \"https://www.imdb.com/title/tt0\" + str(x) + '/')"
   ]
  },
  {
   "cell_type": "code",
   "execution_count": 10,
   "id": "4ad7ba0f",
   "metadata": {},
   "outputs": [
    {
     "data": {
      "text/plain": [
       "(62423, 4)"
      ]
     },
     "execution_count": 10,
     "metadata": {},
     "output_type": "execute_result"
    }
   ],
   "source": [
    "data.shape"
   ]
  },
  {
   "cell_type": "code",
   "execution_count": 7,
   "id": "9c41bf0a",
   "metadata": {},
   "outputs": [],
   "source": [
    "#pip install streamlit"
   ]
  },
  {
   "cell_type": "code",
   "execution_count": null,
   "id": "a89e2698",
   "metadata": {},
   "outputs": [],
   "source": [
    "https://www.imdb.com/video/vi2052129305?playlistId=tt0114709&ref_=tt_ov_vi\n",
    "    \n",
    "https://www.imdb.com/video/vi2171864857/?playlistId=tt0114709?ref_=ext_shr_lnk"
   ]
  },
  {
   "cell_type": "code",
   "execution_count": 21,
   "id": "5f3b4aed",
   "metadata": {},
   "outputs": [],
   "source": [
    "# IFrame(width=\"840\", height=\"472\", src=\"https://youtu.be/8MNJl0L2xe8\")"
   ]
  },
  {
   "cell_type": "code",
   "execution_count": 4,
   "id": "05ca8af6",
   "metadata": {},
   "outputs": [],
   "source": [
    "#IFrame(width=\"840\", height=\"472\", src=\"https://www.youtube.com/embed/NEaUSP4YerM\")"
   ]
  },
  {
   "cell_type": "code",
   "execution_count": 97,
   "id": "ed7e253c",
   "metadata": {},
   "outputs": [],
   "source": [
    "def movie_poster_fetcher(df):\n",
    "    ## Display Movie Poster\n",
    "    url_data = requests.get(df).text\n",
    "    s_data = BeautifulSoup(url_data, 'html.parser')\n",
    "    imdb_dp = s_data.find(\"meta\", property=\"og:image\")\n",
    "    movie_poster_link = imdb_dp.attrs['content']\n",
    "    u = urlopen(movie_poster_link)\n",
    "    raw_data = u.read()\n",
    "    image = PIL.Image.open(io.BytesIO(raw_data))\n",
    "    image = image.resize((158, 301), )\n",
    "    image.show()\n",
    "#   st.image(image, use_column_width=False)"
   ]
  },
  {
   "cell_type": "code",
   "execution_count": 98,
   "id": "c6d95b6e",
   "metadata": {},
   "outputs": [],
   "source": [
    "for link in sampled_recent['url']:\n",
    "    movie_poster_fetcher(link)"
   ]
  },
  {
   "cell_type": "code",
   "execution_count": 130,
   "id": "d9c93acd",
   "metadata": {},
   "outputs": [],
   "source": [
    "def get_movie_info(df):\n",
    "    url_data = requests.get(df).text\n",
    "    s_data = BeautifulSoup(url_data, 'html.parser')\n",
    "    imdb_content = s_data.find(\"meta\", property=\"og:description\")\n",
    "    movie_descr = imdb_content.attrs['content']\n",
    "    movie_descr = str(movie_descr).split('.')\n",
    "    movie_director = movie_descr[0]\n",
    "    movie_cast = str(movie_descr[1])#.replace('With', 'Cast: ').strip()\n",
    "    movie_story = str(movie_descr[2]).strip()+'.'\n",
    "#   movie_story = 'Story: ' + str(movie_descr[2]).strip()+'.'\n",
    "#   rating = s_data.find(\"div\", class_=\"AggregateRatingButton__TotalRatingAmount-sc-1ll29m0-3 jkCVKJ\")\n",
    "#   rating = str(rating).split('<div class=\"AggregateRatingButton__TotalRatingAmount-sc-1ll29m0-3 jkCVKJ')\n",
    "#   rating = str(rating[1]).split(\"</div>\")\n",
    "#   rating = str(rating[0]).replace(''' \"> ''', '').replace('\">', '')\n",
    "\n",
    "    #movie_rating = 'Total Rating count: '+ rating\n",
    "    director = movie_director.split(\":\")[-1]\n",
    "    title = ':'.join(movie_director.split(\":\")[0:-1])\n",
    "    cast = movie_cast\n",
    "    story = movie_story\n",
    "#   movie_director,movie_cast,movie_story\n",
    "    return {'Director': director, \n",
    "           'Title': title,\n",
    "           'Cast': cast,\n",
    "           'Story': story}"
   ]
  },
  {
   "cell_type": "code",
   "execution_count": 132,
   "id": "e34e43d8",
   "metadata": {
    "scrolled": true
   },
   "outputs": [
    {
     "data": {
      "text/plain": [
       "{'Director': ' Directed by Manny Rodriguez',\n",
       " 'Title': 'Gabriel \"Fluffy\" Iglesias: One Show Fits All',\n",
       " 'Cast': ' With Gabriel Iglesias',\n",
       " 'Story': 'Gabriel \"Fluffy\" Iglesias discusses his teenage son, encounters with Snoop Dogg and an overzealous fan, and more.'}"
      ]
     },
     "execution_count": 132,
     "metadata": {},
     "output_type": "execute_result"
    }
   ],
   "source": [
    "info = []\n",
    "for link in sampled_recent['url']:\n",
    "    info.append(get_movie_info(link))\n",
    "info[2]"
   ]
  },
  {
   "cell_type": "code",
   "execution_count": 126,
   "id": "703de451",
   "metadata": {},
   "outputs": [],
   "source": [
    "word = 'Braid: Directed by Mitzi Peirone'.split(\":\")[0:-1]"
   ]
  },
  {
   "cell_type": "code",
   "execution_count": 127,
   "id": "eab48aa1",
   "metadata": {},
   "outputs": [
    {
     "data": {
      "text/plain": [
       "'Braid'"
      ]
     },
     "execution_count": 127,
     "metadata": {},
     "output_type": "execute_result"
    }
   ],
   "source": [
    "':'.join(word)"
   ]
  },
  {
   "cell_type": "code",
   "execution_count": null,
   "id": "8defe061",
   "metadata": {},
   "outputs": [],
   "source": []
  },
  {
   "cell_type": "code",
   "execution_count": null,
   "id": "80fb2d30",
   "metadata": {},
   "outputs": [],
   "source": []
  },
  {
   "cell_type": "code",
   "execution_count": 6,
   "id": "b9706f52",
   "metadata": {},
   "outputs": [
    {
     "data": {
      "text/plain": [
       "('The Shawshank Redemption: Directed by Frank Darabont',\n",
       " 'Cast:  Tim Robbins, Morgan Freeman, Bob Gunton, William Sadler',\n",
       " 'Story: Two imprisoned men bond over a number of years, finding solace and eventual redemption through acts of common decency.')"
      ]
     },
     "execution_count": 6,
     "metadata": {},
     "output_type": "execute_result"
    }
   ],
   "source": [
    "get_movie_info(link)"
   ]
  },
  {
   "cell_type": "code",
   "execution_count": 36,
   "id": "3b87d6ea",
   "metadata": {},
   "outputs": [],
   "source": [
    "# page = requests.get(\"https://www.imdb.com/title/tt0114709/\")\n",
    "# bSoup = BeautifulSoup(page.content, 'html.parser')\n",
    "# lis_nklist = bSoup.find_all('a')\n",
    "\n",
    "# for link in links_list:\n",
    "#     if 'href' in link.attrs and '.mp4' in link.split('@'):\n",
    "#         print(str(link.attrs['href']) + \"\\n\")"
   ]
  }
 ],
 "metadata": {
  "kernelspec": {
   "display_name": "Python 3 (ipykernel)",
   "language": "python",
   "name": "python3"
  },
  "language_info": {
   "codemirror_mode": {
    "name": "ipython",
    "version": 3
   },
   "file_extension": ".py",
   "mimetype": "text/x-python",
   "name": "python",
   "nbconvert_exporter": "python",
   "pygments_lexer": "ipython3",
   "version": "3.9.7"
  }
 },
 "nbformat": 4,
 "nbformat_minor": 5
}
