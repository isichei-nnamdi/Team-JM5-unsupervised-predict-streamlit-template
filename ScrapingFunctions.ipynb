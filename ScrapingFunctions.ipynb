{
 "cells": [
  {
   "cell_type": "code",
   "execution_count": 25,
   "id": "fb477149",
   "metadata": {},
   "outputs": [],
   "source": [
    "import numpy as np\n",
    "import pandas as pd\n",
    "from IPython.display import IFrame"
   ]
  },
  {
   "cell_type": "code",
   "execution_count": 26,
   "id": "b246ece1",
   "metadata": {},
   "outputs": [],
   "source": [
    "#import streamlit as st\n",
    "from PIL import Image\n",
    "# import json\n",
    "# from Classifier import KNearestNeighbours\n",
    "from bs4 import BeautifulSoup\n",
    "import requests,io\n",
    "import PIL.Image\n",
    "from urllib.request import urlopen"
   ]
  },
  {
   "cell_type": "code",
   "execution_count": 39,
   "id": "480f122d",
   "metadata": {},
   "outputs": [],
   "source": [
    "link = pd.read_csv('resources/data/links.csv')"
   ]
  },
  {
   "cell_type": "code",
   "execution_count": 41,
   "id": "d74ec7b5",
   "metadata": {},
   "outputs": [],
   "source": [
    "movie = pd.read_csv('resources/data/movies.csv')"
   ]
  },
  {
   "cell_type": "code",
   "execution_count": 43,
   "id": "a21385c6",
   "metadata": {},
   "outputs": [],
   "source": [
    "rating = pd.read_csv('resources/data/ratings.csv')"
   ]
  },
  {
   "cell_type": "code",
   "execution_count": 44,
   "id": "527ce62c",
   "metadata": {},
   "outputs": [
    {
     "data": {
      "text/html": [
       "<div>\n",
       "<style scoped>\n",
       "    .dataframe tbody tr th:only-of-type {\n",
       "        vertical-align: middle;\n",
       "    }\n",
       "\n",
       "    .dataframe tbody tr th {\n",
       "        vertical-align: top;\n",
       "    }\n",
       "\n",
       "    .dataframe thead th {\n",
       "        text-align: right;\n",
       "    }\n",
       "</style>\n",
       "<table border=\"1\" class=\"dataframe\">\n",
       "  <thead>\n",
       "    <tr style=\"text-align: right;\">\n",
       "      <th></th>\n",
       "      <th>userId</th>\n",
       "      <th>movieId</th>\n",
       "      <th>rating</th>\n",
       "      <th>timestamp</th>\n",
       "    </tr>\n",
       "  </thead>\n",
       "  <tbody>\n",
       "    <tr>\n",
       "      <th>0</th>\n",
       "      <td>1</td>\n",
       "      <td>31</td>\n",
       "      <td>2.5</td>\n",
       "      <td>1260759144</td>\n",
       "    </tr>\n",
       "    <tr>\n",
       "      <th>1</th>\n",
       "      <td>1</td>\n",
       "      <td>1029</td>\n",
       "      <td>3.0</td>\n",
       "      <td>1260759179</td>\n",
       "    </tr>\n",
       "    <tr>\n",
       "      <th>2</th>\n",
       "      <td>1</td>\n",
       "      <td>1061</td>\n",
       "      <td>3.0</td>\n",
       "      <td>1260759182</td>\n",
       "    </tr>\n",
       "    <tr>\n",
       "      <th>3</th>\n",
       "      <td>1</td>\n",
       "      <td>1129</td>\n",
       "      <td>2.0</td>\n",
       "      <td>1260759185</td>\n",
       "    </tr>\n",
       "    <tr>\n",
       "      <th>4</th>\n",
       "      <td>1</td>\n",
       "      <td>1172</td>\n",
       "      <td>4.0</td>\n",
       "      <td>1260759205</td>\n",
       "    </tr>\n",
       "  </tbody>\n",
       "</table>\n",
       "</div>"
      ],
      "text/plain": [
       "   userId  movieId  rating   timestamp\n",
       "0       1       31     2.5  1260759144\n",
       "1       1     1029     3.0  1260759179\n",
       "2       1     1061     3.0  1260759182\n",
       "3       1     1129     2.0  1260759185\n",
       "4       1     1172     4.0  1260759205"
      ]
     },
     "execution_count": 44,
     "metadata": {},
     "output_type": "execute_result"
    }
   ],
   "source": [
    "rating.head()"
   ]
  },
  {
   "cell_type": "code",
   "execution_count": 42,
   "id": "6fe99c00",
   "metadata": {},
   "outputs": [
    {
     "data": {
      "text/html": [
       "<div>\n",
       "<style scoped>\n",
       "    .dataframe tbody tr th:only-of-type {\n",
       "        vertical-align: middle;\n",
       "    }\n",
       "\n",
       "    .dataframe tbody tr th {\n",
       "        vertical-align: top;\n",
       "    }\n",
       "\n",
       "    .dataframe thead th {\n",
       "        text-align: right;\n",
       "    }\n",
       "</style>\n",
       "<table border=\"1\" class=\"dataframe\">\n",
       "  <thead>\n",
       "    <tr style=\"text-align: right;\">\n",
       "      <th></th>\n",
       "      <th>movieId</th>\n",
       "      <th>title</th>\n",
       "      <th>genres</th>\n",
       "    </tr>\n",
       "  </thead>\n",
       "  <tbody>\n",
       "    <tr>\n",
       "      <th>0</th>\n",
       "      <td>1</td>\n",
       "      <td>Toy Story (1995)</td>\n",
       "      <td>Adventure|Animation|Children|Comedy|Fantasy</td>\n",
       "    </tr>\n",
       "    <tr>\n",
       "      <th>1</th>\n",
       "      <td>2</td>\n",
       "      <td>Jumanji (1995)</td>\n",
       "      <td>Adventure|Children|Fantasy</td>\n",
       "    </tr>\n",
       "    <tr>\n",
       "      <th>2</th>\n",
       "      <td>3</td>\n",
       "      <td>Grumpier Old Men (1995)</td>\n",
       "      <td>Comedy|Romance</td>\n",
       "    </tr>\n",
       "    <tr>\n",
       "      <th>3</th>\n",
       "      <td>4</td>\n",
       "      <td>Waiting to Exhale (1995)</td>\n",
       "      <td>Comedy|Drama|Romance</td>\n",
       "    </tr>\n",
       "    <tr>\n",
       "      <th>4</th>\n",
       "      <td>5</td>\n",
       "      <td>Father of the Bride Part II (1995)</td>\n",
       "      <td>Comedy</td>\n",
       "    </tr>\n",
       "  </tbody>\n",
       "</table>\n",
       "</div>"
      ],
      "text/plain": [
       "   movieId                               title  \\\n",
       "0        1                    Toy Story (1995)   \n",
       "1        2                      Jumanji (1995)   \n",
       "2        3             Grumpier Old Men (1995)   \n",
       "3        4            Waiting to Exhale (1995)   \n",
       "4        5  Father of the Bride Part II (1995)   \n",
       "\n",
       "                                        genres  \n",
       "0  Adventure|Animation|Children|Comedy|Fantasy  \n",
       "1                   Adventure|Children|Fantasy  \n",
       "2                               Comedy|Romance  \n",
       "3                         Comedy|Drama|Romance  \n",
       "4                                       Comedy  "
      ]
     },
     "execution_count": 42,
     "metadata": {},
     "output_type": "execute_result"
    }
   ],
   "source": [
    "movie.head()"
   ]
  },
  {
   "cell_type": "code",
   "execution_count": 45,
   "id": "69ffd362",
   "metadata": {},
   "outputs": [
    {
     "data": {
      "text/html": [
       "<div>\n",
       "<style scoped>\n",
       "    .dataframe tbody tr th:only-of-type {\n",
       "        vertical-align: middle;\n",
       "    }\n",
       "\n",
       "    .dataframe tbody tr th {\n",
       "        vertical-align: top;\n",
       "    }\n",
       "\n",
       "    .dataframe thead th {\n",
       "        text-align: right;\n",
       "    }\n",
       "</style>\n",
       "<table border=\"1\" class=\"dataframe\">\n",
       "  <thead>\n",
       "    <tr style=\"text-align: right;\">\n",
       "      <th></th>\n",
       "      <th>movieId</th>\n",
       "      <th>imdbId</th>\n",
       "      <th>tmdbId</th>\n",
       "      <th>url</th>\n",
       "    </tr>\n",
       "  </thead>\n",
       "  <tbody>\n",
       "    <tr>\n",
       "      <th>0</th>\n",
       "      <td>1</td>\n",
       "      <td>114709</td>\n",
       "      <td>862.0</td>\n",
       "      <td>https://www.imdb.com/title/tt0114709/</td>\n",
       "    </tr>\n",
       "    <tr>\n",
       "      <th>1</th>\n",
       "      <td>2</td>\n",
       "      <td>113497</td>\n",
       "      <td>8844.0</td>\n",
       "      <td>https://www.imdb.com/title/tt0113497/</td>\n",
       "    </tr>\n",
       "    <tr>\n",
       "      <th>2</th>\n",
       "      <td>3</td>\n",
       "      <td>113228</td>\n",
       "      <td>15602.0</td>\n",
       "      <td>https://www.imdb.com/title/tt0113228/</td>\n",
       "    </tr>\n",
       "    <tr>\n",
       "      <th>3</th>\n",
       "      <td>4</td>\n",
       "      <td>114885</td>\n",
       "      <td>31357.0</td>\n",
       "      <td>https://www.imdb.com/title/tt0114885/</td>\n",
       "    </tr>\n",
       "    <tr>\n",
       "      <th>4</th>\n",
       "      <td>5</td>\n",
       "      <td>113041</td>\n",
       "      <td>11862.0</td>\n",
       "      <td>https://www.imdb.com/title/tt0113041/</td>\n",
       "    </tr>\n",
       "  </tbody>\n",
       "</table>\n",
       "</div>"
      ],
      "text/plain": [
       "   movieId  imdbId   tmdbId                                    url\n",
       "0        1  114709    862.0  https://www.imdb.com/title/tt0114709/\n",
       "1        2  113497   8844.0  https://www.imdb.com/title/tt0113497/\n",
       "2        3  113228  15602.0  https://www.imdb.com/title/tt0113228/\n",
       "3        4  114885  31357.0  https://www.imdb.com/title/tt0114885/\n",
       "4        5  113041  11862.0  https://www.imdb.com/title/tt0113041/"
      ]
     },
     "execution_count": 45,
     "metadata": {},
     "output_type": "execute_result"
    }
   ],
   "source": [
    "link.head()"
   ]
  },
  {
   "cell_type": "code",
   "execution_count": 46,
   "id": "52670f8c",
   "metadata": {},
   "outputs": [],
   "source": [
    "merged = movie.merge(link, how = 'left', on = 'movieId')"
   ]
  },
  {
   "cell_type": "code",
   "execution_count": 86,
   "id": "add9acb1",
   "metadata": {},
   "outputs": [],
   "source": [
    "merged['year'] = merged['title'].apply(lambda x: x.split(' ')[-1]).str.extract(r'(\\d+)')"
   ]
  },
  {
   "cell_type": "code",
   "execution_count": 80,
   "id": "00fcf112",
   "metadata": {},
   "outputs": [],
   "source": [
    "merged['year'] = merged['title'].str.extract(r'(\\d+)')"
   ]
  },
  {
   "cell_type": "code",
   "execution_count": 109,
   "id": "1fbc26bb",
   "metadata": {},
   "outputs": [
    {
     "data": {
      "text/html": [
       "<div>\n",
       "<style scoped>\n",
       "    .dataframe tbody tr th:only-of-type {\n",
       "        vertical-align: middle;\n",
       "    }\n",
       "\n",
       "    .dataframe tbody tr th {\n",
       "        vertical-align: top;\n",
       "    }\n",
       "\n",
       "    .dataframe thead th {\n",
       "        text-align: right;\n",
       "    }\n",
       "</style>\n",
       "<table border=\"1\" class=\"dataframe\">\n",
       "  <thead>\n",
       "    <tr style=\"text-align: right;\">\n",
       "      <th></th>\n",
       "      <th>movieId</th>\n",
       "      <th>title</th>\n",
       "      <th>genres</th>\n",
       "      <th>imdbId</th>\n",
       "      <th>tmdbId</th>\n",
       "      <th>url</th>\n",
       "      <th>year</th>\n",
       "    </tr>\n",
       "  </thead>\n",
       "  <tbody>\n",
       "    <tr>\n",
       "      <th>0</th>\n",
       "      <td>1</td>\n",
       "      <td>Toy Story (1995)</td>\n",
       "      <td>Adventure|Animation|Children|Comedy|Fantasy</td>\n",
       "      <td>114709</td>\n",
       "      <td>862.0</td>\n",
       "      <td>https://www.imdb.com/title/tt0114709/</td>\n",
       "      <td>1995</td>\n",
       "    </tr>\n",
       "    <tr>\n",
       "      <th>1</th>\n",
       "      <td>2</td>\n",
       "      <td>Jumanji (1995)</td>\n",
       "      <td>Adventure|Children|Fantasy</td>\n",
       "      <td>113497</td>\n",
       "      <td>8844.0</td>\n",
       "      <td>https://www.imdb.com/title/tt0113497/</td>\n",
       "      <td>1995</td>\n",
       "    </tr>\n",
       "    <tr>\n",
       "      <th>2</th>\n",
       "      <td>3</td>\n",
       "      <td>Grumpier Old Men (1995)</td>\n",
       "      <td>Comedy|Romance</td>\n",
       "      <td>113228</td>\n",
       "      <td>15602.0</td>\n",
       "      <td>https://www.imdb.com/title/tt0113228/</td>\n",
       "      <td>1995</td>\n",
       "    </tr>\n",
       "    <tr>\n",
       "      <th>3</th>\n",
       "      <td>4</td>\n",
       "      <td>Waiting to Exhale (1995)</td>\n",
       "      <td>Comedy|Drama|Romance</td>\n",
       "      <td>114885</td>\n",
       "      <td>31357.0</td>\n",
       "      <td>https://www.imdb.com/title/tt0114885/</td>\n",
       "      <td>1995</td>\n",
       "    </tr>\n",
       "    <tr>\n",
       "      <th>4</th>\n",
       "      <td>5</td>\n",
       "      <td>Father of the Bride Part II (1995)</td>\n",
       "      <td>Comedy</td>\n",
       "      <td>113041</td>\n",
       "      <td>11862.0</td>\n",
       "      <td>https://www.imdb.com/title/tt0113041/</td>\n",
       "      <td>1995</td>\n",
       "    </tr>\n",
       "  </tbody>\n",
       "</table>\n",
       "</div>"
      ],
      "text/plain": [
       "   movieId                               title  \\\n",
       "0        1                    Toy Story (1995)   \n",
       "1        2                      Jumanji (1995)   \n",
       "2        3             Grumpier Old Men (1995)   \n",
       "3        4            Waiting to Exhale (1995)   \n",
       "4        5  Father of the Bride Part II (1995)   \n",
       "\n",
       "                                        genres  imdbId   tmdbId  \\\n",
       "0  Adventure|Animation|Children|Comedy|Fantasy  114709    862.0   \n",
       "1                   Adventure|Children|Fantasy  113497   8844.0   \n",
       "2                               Comedy|Romance  113228  15602.0   \n",
       "3                         Comedy|Drama|Romance  114885  31357.0   \n",
       "4                                       Comedy  113041  11862.0   \n",
       "\n",
       "                                     url  year  \n",
       "0  https://www.imdb.com/title/tt0114709/  1995  \n",
       "1  https://www.imdb.com/title/tt0113497/  1995  \n",
       "2  https://www.imdb.com/title/tt0113228/  1995  \n",
       "3  https://www.imdb.com/title/tt0114885/  1995  \n",
       "4  https://www.imdb.com/title/tt0113041/  1995  "
      ]
     },
     "execution_count": 109,
     "metadata": {},
     "output_type": "execute_result"
    }
   ],
   "source": [
    "merged."
   ]
  },
  {
   "cell_type": "code",
   "execution_count": 131,
   "id": "2cae19d9",
   "metadata": {},
   "outputs": [],
   "source": [
    "# df_merged = merged.drop(merged.index[[num for num in merged['year'] if len(str(num)) < 4]], axis = 0) #unique() #.groupby('year').count()"
   ]
  },
  {
   "cell_type": "code",
   "execution_count": 129,
   "id": "63e907ac",
   "metadata": {},
   "outputs": [],
   "source": [
    "odd = [num for num in merged['year'] if len(str(num)) < 4]\n",
    "\n",
    "year = list(set([record for record in merged['year'] if record not in odd]))"
   ]
  },
  {
   "cell_type": "code",
   "execution_count": 132,
   "id": "57adb2cc",
   "metadata": {},
   "outputs": [],
   "source": [
    "# merged[merged['year'] == year]"
   ]
  },
  {
   "cell_type": "code",
   "execution_count": 97,
   "id": "4d2bafee",
   "metadata": {},
   "outputs": [
    {
     "data": {
      "text/html": [
       "<div>\n",
       "<style scoped>\n",
       "    .dataframe tbody tr th:only-of-type {\n",
       "        vertical-align: middle;\n",
       "    }\n",
       "\n",
       "    .dataframe tbody tr th {\n",
       "        vertical-align: top;\n",
       "    }\n",
       "\n",
       "    .dataframe thead th {\n",
       "        text-align: right;\n",
       "    }\n",
       "</style>\n",
       "<table border=\"1\" class=\"dataframe\">\n",
       "  <thead>\n",
       "    <tr style=\"text-align: right;\">\n",
       "      <th></th>\n",
       "      <th>movieId</th>\n",
       "      <th>title</th>\n",
       "      <th>genres</th>\n",
       "      <th>imdbId</th>\n",
       "      <th>tmdbId</th>\n",
       "      <th>url</th>\n",
       "      <th>year</th>\n",
       "    </tr>\n",
       "  </thead>\n",
       "  <tbody>\n",
       "    <tr>\n",
       "      <th>36122</th>\n",
       "      <td>149502</td>\n",
       "      <td>101次求婚</td>\n",
       "      <td>(no genres listed)</td>\n",
       "      <td>1674766</td>\n",
       "      <td>187006.0</td>\n",
       "      <td>https://www.imdb.com/title/tt01674766/</td>\n",
       "      <td>101</td>\n",
       "    </tr>\n",
       "  </tbody>\n",
       "</table>\n",
       "</div>"
      ],
      "text/plain": [
       "       movieId   title              genres   imdbId    tmdbId  \\\n",
       "36122   149502  101次求婚  (no genres listed)  1674766  187006.0   \n",
       "\n",
       "                                          url year  \n",
       "36122  https://www.imdb.com/title/tt01674766/  101  "
      ]
     },
     "execution_count": 97,
     "metadata": {},
     "output_type": "execute_result"
    }
   ],
   "source": [
    "merged[merged['year'] == '101']"
   ]
  },
  {
   "cell_type": "code",
   "execution_count": 9,
   "id": "f941923f",
   "metadata": {},
   "outputs": [],
   "source": [
    "# data['url'] = data['imdbId'].apply(lambda x: \"https://www.imdb.com/title/tt0\" + str(x) + '/')"
   ]
  },
  {
   "cell_type": "code",
   "execution_count": 10,
   "id": "4ad7ba0f",
   "metadata": {},
   "outputs": [
    {
     "data": {
      "text/plain": [
       "(62423, 4)"
      ]
     },
     "execution_count": 10,
     "metadata": {},
     "output_type": "execute_result"
    }
   ],
   "source": [
    "data.shape"
   ]
  },
  {
   "cell_type": "code",
   "execution_count": 7,
   "id": "9c41bf0a",
   "metadata": {},
   "outputs": [],
   "source": [
    "#pip install streamlit"
   ]
  },
  {
   "cell_type": "code",
   "execution_count": null,
   "id": "a89e2698",
   "metadata": {},
   "outputs": [],
   "source": [
    "https://www.imdb.com/video/vi2052129305?playlistId=tt0114709&ref_=tt_ov_vi\n",
    "    \n",
    "https://www.imdb.com/video/vi2171864857/?playlistId=tt0114709?ref_=ext_shr_lnk"
   ]
  },
  {
   "cell_type": "code",
   "execution_count": 21,
   "id": "5f3b4aed",
   "metadata": {},
   "outputs": [],
   "source": [
    "# IFrame(width=\"840\", height=\"472\", src=\"https://youtu.be/8MNJl0L2xe8\")"
   ]
  },
  {
   "cell_type": "code",
   "execution_count": 4,
   "id": "05ca8af6",
   "metadata": {},
   "outputs": [],
   "source": [
    "#IFrame(width=\"840\", height=\"472\", src=\"https://www.youtube.com/embed/NEaUSP4YerM\")"
   ]
  },
  {
   "cell_type": "code",
   "execution_count": 37,
   "id": "ed7e253c",
   "metadata": {},
   "outputs": [],
   "source": [
    "def movie_poster_fetcher(imdb_link):\n",
    "    ## Display Movie Poster\n",
    "    url_data = requests.get(imdb_link).text\n",
    "    s_data = BeautifulSoup(url_data, 'html.parser')\n",
    "    imdb_dp = s_data.find(\"meta\", property=\"og:image\")\n",
    "    movie_poster_link = imdb_dp.attrs['content']\n",
    "    u = urlopen(movie_poster_link)\n",
    "    raw_data = u.read()\n",
    "    image = PIL.Image.open(io.BytesIO(raw_data))\n",
    "    image = image.resize((158, 301), )\n",
    "    image.show()\n",
    "#     st.image(image, use_column_width=False)"
   ]
  },
  {
   "cell_type": "code",
   "execution_count": 133,
   "id": "c6d95b6e",
   "metadata": {},
   "outputs": [],
   "source": [
    "# movie_poster_fetcher(data['url'][0])"
   ]
  },
  {
   "cell_type": "code",
   "execution_count": 3,
   "id": "0b919ef8",
   "metadata": {},
   "outputs": [],
   "source": [
    "#link = \"https://www.imdb.com/title/tt0111161/\""
   ]
  },
  {
   "cell_type": "code",
   "execution_count": 11,
   "id": "2617c37e",
   "metadata": {},
   "outputs": [
    {
     "data": {
      "text/plain": [
       "'https://www.imdb.com/title/tt0114709/'"
      ]
     },
     "execution_count": 11,
     "metadata": {},
     "output_type": "execute_result"
    }
   ],
   "source": [
    "data['url'][0]"
   ]
  },
  {
   "cell_type": "code",
   "execution_count": 23,
   "id": "dffa0a03",
   "metadata": {},
   "outputs": [],
   "source": [
    "# movie_poster_fetcher(data['url'][0])"
   ]
  },
  {
   "cell_type": "code",
   "execution_count": null,
   "id": "8e4be211",
   "metadata": {},
   "outputs": [],
   "source": [
    "streamlit run C:\\Users\\USER\\anaconda3\\lib\\site-packages\\ipykernel_launcher.py"
   ]
  },
  {
   "cell_type": "code",
   "execution_count": 5,
   "id": "d9c93acd",
   "metadata": {},
   "outputs": [],
   "source": [
    "def get_movie_info(imdb_link):\n",
    "    url_data = requests.get(imdb_link).text\n",
    "    s_data = BeautifulSoup(url_data, 'html.parser')\n",
    "    imdb_content = s_data.find(\"meta\", property=\"og:description\")\n",
    "    movie_descr = imdb_content.attrs['content']\n",
    "    movie_descr = str(movie_descr).split('.')\n",
    "    movie_director = movie_descr[0]\n",
    "    movie_cast = str(movie_descr[1]).replace('With', 'Cast: ').strip()\n",
    "    movie_story = 'Story: ' + str(movie_descr[2]).strip()+'.'\n",
    "#     rating = s_data.find(\"div\", class_=\"AggregateRatingButton__TotalRatingAmount-sc-1ll29m0-3 jkCVKJ\")\n",
    "#     rating = str(rating).split('<div class=\"AggregateRatingButton__TotalRatingAmount-sc-1ll29m0-3 jkCVKJ')\n",
    "#     rating = str(rating[1]).split(\"</div>\")\n",
    "#     rating = str(rating[0]).replace(''' \"> ''', '').replace('\">', '')\n",
    "\n",
    "    #movie_rating = 'Total Rating count: '+ rating\n",
    "    return movie_director,movie_cast,movie_story"
   ]
  },
  {
   "cell_type": "code",
   "execution_count": 6,
   "id": "b9706f52",
   "metadata": {},
   "outputs": [
    {
     "data": {
      "text/plain": [
       "('The Shawshank Redemption: Directed by Frank Darabont',\n",
       " 'Cast:  Tim Robbins, Morgan Freeman, Bob Gunton, William Sadler',\n",
       " 'Story: Two imprisoned men bond over a number of years, finding solace and eventual redemption through acts of common decency.')"
      ]
     },
     "execution_count": 6,
     "metadata": {},
     "output_type": "execute_result"
    }
   ],
   "source": [
    "get_movie_info(link)"
   ]
  },
  {
   "cell_type": "code",
   "execution_count": 36,
   "id": "3b87d6ea",
   "metadata": {},
   "outputs": [],
   "source": [
    "# page = requests.get(\"https://www.imdb.com/title/tt0114709/\")\n",
    "# bSoup = BeautifulSoup(page.content, 'html.parser')\n",
    "# lis_nklist = bSoup.find_all('a')\n",
    "\n",
    "# for link in links_list:\n",
    "#     if 'href' in link.attrs and '.mp4' in link.split('@'):\n",
    "#         print(str(link.attrs['href']) + \"\\n\")"
   ]
  }
 ],
 "metadata": {
  "kernelspec": {
   "display_name": "Python 3 (ipykernel)",
   "language": "python",
   "name": "python3"
  },
  "language_info": {
   "codemirror_mode": {
    "name": "ipython",
    "version": 3
   },
   "file_extension": ".py",
   "mimetype": "text/x-python",
   "name": "python",
   "nbconvert_exporter": "python",
   "pygments_lexer": "ipython3",
   "version": "3.9.7"
  }
 },
 "nbformat": 4,
 "nbformat_minor": 5
}
